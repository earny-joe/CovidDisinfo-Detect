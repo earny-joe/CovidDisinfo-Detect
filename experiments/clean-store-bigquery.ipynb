{
 "cells": [
  {
   "cell_type": "markdown",
   "metadata": {},
   "source": [
    "# _Clean & Store in BigQuery_"
   ]
  },
  {
   "cell_type": "code",
   "execution_count": 1,
   "metadata": {},
   "outputs": [],
   "source": [
    "import utils\n",
    "import pandas as pd\n",
    "\n",
    "%reload_ext autoreload\n",
    "%autoreload 2\n",
    "%matplotlib inline"
   ]
  },
  {
   "cell_type": "code",
   "execution_count": 19,
   "metadata": {},
   "outputs": [
    {
     "name": "stdout",
     "output_type": "stream",
     "text": [
      "Blob dailies/2020-05-19/2020-05-19_clean-dataset.json downloaded to /home/jupyter/covid_disinfo_detect/experiments/playground_data/2020-05-19_clean-dataset.json.\n",
      "CPU times: user 25.3 s, sys: 7.79 s, total: 33.1 s\n",
      "Wall time: 45.5 s\n"
     ]
    }
   ],
   "source": [
    "%%time\n",
    "utils.download_json('2020-05-19')"
   ]
  },
  {
   "cell_type": "code",
   "execution_count": 24,
   "metadata": {},
   "outputs": [],
   "source": [
    "def load_data(date, chunksize=50000):\n",
    "    cols_interest = [\n",
    "        'created_at',\n",
    "        'id_str',\n",
    "        'user',\n",
    "        'lang',\n",
    "        'full_text'\n",
    "    ]\n",
    "    \n",
    "    chunks = pd.read_json(\n",
    "        f'playground_data/{date}_clean-dataset.json',\n",
    "        lines=True,\n",
    "        chunksize=chunksize,\n",
    "        dtype={\n",
    "            'id_str': str,\n",
    "            'in_reply_to_status_id_str': str,\n",
    "            'quoted_status_id_str': str\n",
    "        }\n",
    "    )\n",
    "    \n",
    "    df = pd.concat(chunk for chunk in chunks)\n",
    "    print('Loaded data...\\n')\n",
    "    return df[cols_interest]\n",
    "\n",
    "\n",
    "def clean_data(df):\n",
    "    df2clean = df.copy()\n",
    "    df2clean['user_id_str'] = df2clean['user'].apply(lambda user: str(user['id_str']))\n",
    "    df2clean.drop(labels = 'user', axis = 1, inplace = True)\n",
    "    dfclean = df2clean[['created_at', 'id_str', 'user_id_str', 'lang', 'full_text']]\n",
    "    print('Cleaned data...\\n')\n",
    "    return dfclean\n",
    "\n",
    "\n",
    "def data_setup(date):\n",
    "    df = clean_data(load_data(date))\n",
    "    return df\n",
    "\n",
    "\n",
    "def load_bigquery(df, date):\n",
    "    client = bigquery.Client(location='US')\n",
    "    dataset = client.get_dataset('twitter_dailies')\n",
    "    bq_date = date.replace('-', '_')    # need to slightly change date string\n",
    "    table_ref = dataset.table(bq_date)\n",
    "    job = client.load_table_from_dataframe(df, table_ref, location='US')\n",
    "    job.result()\n",
    "    print(f'Loaded {job.output_rows} rows from dataframe to {table_ref.path}\\n')\n",
    "    \n",
    "    \n",
    "def data_bq_wrapper():\n",
    "    date = input('What is the date of the data that you would like to store in BigQuery?\\n')\n",
    "    df = data_setup(date)\n",
    "    load_bigquery(df, date)\n",
    "    print(f'Data from {date} successfully stored in BigQuery.\\n')"
   ]
  },
  {
   "cell_type": "code",
   "execution_count": 25,
   "metadata": {},
   "outputs": [
    {
     "name": "stdin",
     "output_type": "stream",
     "text": [
      "What is the date of the data that you would like to store in BigQuery?\n",
      " 2020-05-19\n"
     ]
    },
    {
     "name": "stdout",
     "output_type": "stream",
     "text": [
      "Loaded data...\n",
      "\n",
      "Cleaned data...\n",
      "\n",
      "Loaded 1009123 rows from dataframe to /projects/covid-disinfo-detect/datasets/twitter_dailies/tables/2020_05_19\n",
      "\n",
      "Data from 2020-05-19 successfully stored in BigQuery.\n",
      "\n",
      "CPU times: user 4min 13s, sys: 8.08 s, total: 4min 21s\n",
      "Wall time: 5min 25s\n"
     ]
    }
   ],
   "source": [
    "%%time\n",
    "data_bq_wrapper()"
   ]
  }
 ],
 "metadata": {
  "kernelspec": {
   "display_name": "Python 3",
   "language": "python",
   "name": "python3"
  },
  "language_info": {
   "codemirror_mode": {
    "name": "ipython",
    "version": 3
   },
   "file_extension": ".py",
   "mimetype": "text/x-python",
   "name": "python",
   "nbconvert_exporter": "python",
   "pygments_lexer": "ipython3",
   "version": "3.7.6"
  }
 },
 "nbformat": 4,
 "nbformat_minor": 4
}
