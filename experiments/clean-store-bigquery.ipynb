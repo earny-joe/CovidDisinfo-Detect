{
 "cells": [
  {
   "cell_type": "markdown",
   "metadata": {},
   "source": [
    "# _Clean & Store in BigQuery_"
   ]
  },
  {
   "cell_type": "code",
   "execution_count": 8,
   "metadata": {},
   "outputs": [],
   "source": [
    "import utils\n",
    "\n",
    "%reload_ext autoreload\n",
    "%autoreload 2\n",
    "%matplotlib inline"
   ]
  },
  {
   "cell_type": "code",
   "execution_count": 2,
   "metadata": {},
   "outputs": [
    {
     "name": "stdout",
     "output_type": "stream",
     "text": [
      "Blob dailies/2020-05-20/2020-05-20_clean-dataset.json downloaded to /home/jupyter/covid_disinfo_detect/experiments/playground_data/2020-05-20_clean-dataset.json.\n",
      "CPU times: user 24.5 s, sys: 8.12 s, total: 32.6 s\n",
      "Wall time: 54.9 s\n"
     ]
    }
   ],
   "source": [
    "%%time\n",
    "#utils.download_json('2020-05-20')"
   ]
  },
  {
   "cell_type": "code",
   "execution_count": 9,
   "metadata": {},
   "outputs": [
    {
     "name": "stdout",
     "output_type": "stream",
     "text": [
      "CPU times: user 4min 23s, sys: 16.8 s, total: 4min 40s\n",
      "Wall time: 4min 39s\n"
     ]
    }
   ],
   "source": [
    "%%time\n",
    "df = utils.clean_panacea_data(utils.load_data('2020-05-20_clean-dataset.json'))"
   ]
  },
  {
   "cell_type": "code",
   "execution_count": 10,
   "metadata": {},
   "outputs": [
    {
     "name": "stdout",
     "output_type": "stream",
     "text": [
      "<class 'pandas.core.frame.DataFrame'>\n",
      "RangeIndex: 1009492 entries, 0 to 1009491\n",
      "Data columns (total 28 columns):\n",
      " #   Column                        Non-Null Count    Dtype              \n",
      "---  ------                        --------------    -----              \n",
      " 0   created_at                    1009492 non-null  datetime64[ns, UTC]\n",
      " 1   favorite_count                1009492 non-null  int64              \n",
      " 2   full_text                     1009492 non-null  object             \n",
      " 3   id_str                        1009492 non-null  object             \n",
      " 4   in_reply_to_screen_name       1009492 non-null  object             \n",
      " 5   in_reply_to_status_id_str     1009492 non-null  object             \n",
      " 6   is_quote_status               1009492 non-null  bool               \n",
      " 7   lang                          1009492 non-null  object             \n",
      " 8   retweet_count                 1009492 non-null  int64              \n",
      " 9   quoted_status_id_str          1009492 non-null  object             \n",
      " 10  hashtags                      1009492 non-null  object             \n",
      " 11  symbols                       1009492 non-null  object             \n",
      " 12  urls                          1009492 non-null  object             \n",
      " 13  user_mentions                 1009492 non-null  object             \n",
      " 14  tweet_source                  1009492 non-null  object             \n",
      " 15  user_created_at               1009492 non-null  object             \n",
      " 16  user_description              1009492 non-null  object             \n",
      " 17  user_favourites_count         1009492 non-null  int64              \n",
      " 18  user_followers_count          1009492 non-null  int64              \n",
      " 19  user_friends_count            1009492 non-null  int64              \n",
      " 20  user_id_str                   1009492 non-null  object             \n",
      " 21  user_location                 1009492 non-null  object             \n",
      " 22  user_name                     1009492 non-null  object             \n",
      " 23  user_profile_image_url_https  1009492 non-null  object             \n",
      " 24  user_screen_name              1009492 non-null  object             \n",
      " 25  user_statuses_count           1009492 non-null  int64              \n",
      " 26  user_verified                 1009492 non-null  bool               \n",
      " 27  quoted_status_url             1009492 non-null  object             \n",
      "dtypes: bool(2), datetime64[ns, UTC](1), int64(6), object(19)\n",
      "memory usage: 202.2+ MB\n"
     ]
    }
   ],
   "source": [
    "df.info()"
   ]
  },
  {
   "cell_type": "code",
   "execution_count": 12,
   "metadata": {},
   "outputs": [
    {
     "data": {
      "text/plain": [
       "created_at                      0\n",
       "favorite_count                  0\n",
       "full_text                       0\n",
       "id_str                          0\n",
       "in_reply_to_screen_name         0\n",
       "in_reply_to_status_id_str       0\n",
       "is_quote_status                 0\n",
       "lang                            0\n",
       "retweet_count                   0\n",
       "quoted_status_id_str            0\n",
       "hashtags                        0\n",
       "symbols                         0\n",
       "urls                            0\n",
       "user_mentions                   0\n",
       "tweet_source                    0\n",
       "user_created_at                 0\n",
       "user_description                0\n",
       "user_favourites_count           0\n",
       "user_followers_count            0\n",
       "user_friends_count              0\n",
       "user_id_str                     0\n",
       "user_location                   0\n",
       "user_name                       0\n",
       "user_profile_image_url_https    0\n",
       "user_screen_name                0\n",
       "user_statuses_count             0\n",
       "user_verified                   0\n",
       "quoted_status_url               0\n",
       "dtype: int64"
      ]
     },
     "execution_count": 12,
     "metadata": {},
     "output_type": "execute_result"
    }
   ],
   "source": [
    "df.isna().sum()"
   ]
  },
  {
   "cell_type": "code",
   "execution_count": null,
   "metadata": {},
   "outputs": [],
   "source": []
  },
  {
   "cell_type": "code",
   "execution_count": null,
   "metadata": {},
   "outputs": [],
   "source": []
  }
 ],
 "metadata": {
  "kernelspec": {
   "display_name": "Python 3",
   "language": "python",
   "name": "python3"
  },
  "language_info": {
   "codemirror_mode": {
    "name": "ipython",
    "version": 3
   },
   "file_extension": ".py",
   "mimetype": "text/x-python",
   "name": "python",
   "nbconvert_exporter": "python",
   "pygments_lexer": "ipython3",
   "version": "3.7.6"
  }
 },
 "nbformat": 4,
 "nbformat_minor": 4
}
