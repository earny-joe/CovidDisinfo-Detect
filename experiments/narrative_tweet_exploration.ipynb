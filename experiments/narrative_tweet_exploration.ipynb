{
 "cells": [
  {
   "cell_type": "markdown",
   "metadata": {},
   "source": [
    "# _Narrative Tweet Exploration_"
   ]
  },
  {
   "cell_type": "code",
   "execution_count": 1,
   "metadata": {},
   "outputs": [],
   "source": [
    "import pandas as pd\n",
    "from pathlib import Path\n",
    "import glob\n",
    "from vaderSentiment.vaderSentiment import SentimentIntensityAnalyzer\n",
    "from sklearn.preprocessing import MinMaxScaler\n",
    "import umap\n",
    "import pickle\n",
    "import matplotlib.pyplot as plt\n",
    "from bokeh.plotting import figure, show, output_notebook\n",
    "from bokeh.models import HoverTool, ColumnDataSource, CategoricalColorMapper\n",
    "from bokeh.palettes import Spectral10\n",
    "%config InlineBackend.figure_format = 'retina'"
   ]
  },
  {
   "cell_type": "code",
   "execution_count": 2,
   "metadata": {},
   "outputs": [],
   "source": [
    "#output_notebook()"
   ]
  },
  {
   "cell_type": "code",
   "execution_count": 3,
   "metadata": {},
   "outputs": [],
   "source": [
    "def path_and_files():\n",
    "    datapath = Path.cwd().parent / 'data' / 'misinformation_narratives'\n",
    "    narrative_files = glob.glob(f'{datapath}/*/*.json')\n",
    "    return datapath, narrative_files"
   ]
  },
  {
   "cell_type": "code",
   "execution_count": 10,
   "metadata": {},
   "outputs": [],
   "source": [
    "def load_data(datapath, filename):\n",
    "    df = pd.read_json(\n",
    "        datapath / filename,\n",
    "        lines=True\n",
    "    )\n",
    "    return df\n",
    "\n",
    "\n",
    "def glob_load(filename):\n",
    "    df = pd.read_json(\n",
    "        filename,\n",
    "        lines=True\n",
    "    )\n",
    "    df['narrative'] = str(filename.split('/')[8])\n",
    "    return df\n",
    "\n",
    "def sentimentscore(df):\n",
    "    analyzer = SentimentIntensityAnalyzer()\n",
    "    df['sentiment'] = df['full_text'].apply(\n",
    "        lambda tweet: analyzer.polarity_scores(tweet)['compound']\n",
    "    )\n",
    "    return df\n",
    "\n",
    "\n",
    "def cleandata(df):\n",
    "    return df[['created_at', 'id_str', 'full_text', 'sentiment', 'narrative']]\n",
    "\n",
    "\n",
    "def data_wrapper():\n",
    "    datapath = path_to_data()\n",
    "    filename = input('What is the filename?\\n')\n",
    "    df = load_data(datapath, filename)\n",
    "    df = sentimentscore(df)\n",
    "    df = cleandata(df)\n",
    "    return df\n",
    "\n",
    "\n",
    "#dfclean = data_wrapper().sort_values(by='sentiment')"
   ]
  },
  {
   "cell_type": "code",
   "execution_count": 11,
   "metadata": {},
   "outputs": [],
   "source": [
    "def load_all_narratives(narrative_files):\n",
    "    for file in narrative_files:\n",
    "        df = pd.concat([glob_load(file) for file in narrative_files])\n",
    "        df = sentimentscore(df)\n",
    "        df = cleandata(df).reset_index(drop=True)\n",
    "        return df"
   ]
  },
  {
   "cell_type": "code",
   "execution_count": 12,
   "metadata": {},
   "outputs": [],
   "source": [
    "datapath, narrative_files = path_and_files()\n",
    "df = load_all_narratives(narrative_files)"
   ]
  },
  {
   "cell_type": "code",
   "execution_count": 13,
   "metadata": {},
   "outputs": [
    {
     "name": "stdout",
     "output_type": "stream",
     "text": [
      "<class 'pandas.core.frame.DataFrame'>\n",
      "RangeIndex: 60 entries, 0 to 59\n",
      "Data columns (total 5 columns):\n",
      " #   Column      Non-Null Count  Dtype              \n",
      "---  ------      --------------  -----              \n",
      " 0   created_at  60 non-null     datetime64[ns, UTC]\n",
      " 1   id_str      60 non-null     int64              \n",
      " 2   full_text   60 non-null     object             \n",
      " 3   sentiment   60 non-null     float64            \n",
      " 4   narrative   60 non-null     object             \n",
      "dtypes: datetime64[ns, UTC](1), float64(1), int64(1), object(2)\n",
      "memory usage: 2.5+ KB\n"
     ]
    }
   ],
   "source": [
    "df.info()"
   ]
  },
  {
   "cell_type": "code",
   "execution_count": 14,
   "metadata": {},
   "outputs": [
    {
     "name": "stdout",
     "output_type": "stream",
     "text": [
      "There are 6 narratives & include:\n",
      "\n",
      "['zionist_plot' 'plandemic' 'bioweapon' 'hydroxychloroquine_cure'\n",
      " 'deep_state_fauci' '5g_coronavirus']\n"
     ]
    }
   ],
   "source": [
    "print(\n",
    "    f'There are {len(df.narrative.unique())} narratives & include:\\n\\n{df.narrative.unique()}'\n",
    ")"
   ]
  },
  {
   "cell_type": "markdown",
   "metadata": {},
   "source": [
    "### _Clean Text_"
   ]
  },
  {
   "cell_type": "code",
   "execution_count": 15,
   "metadata": {},
   "outputs": [],
   "source": [
    "def emoji_replace(text):\n",
    "    # first demojize text\n",
    "    text = emoji.demojize(text) # use_aliases=True)\n",
    "    regex = re.compile(r'(?<=:)(\\S+)(?=:)', re.I)\n",
    "    #text = punctuation_replace(new_text)\n",
    "    #regex = re.compile(r\"(:\\S+:)\", re.I)\n",
    "    for item in regex.finditer(text):\n",
    "        emojistr = str(item.group()) #.replace(r'_',''))\n",
    "        #print(emojistr)\n",
    "        #itemstring = item.group()\n",
    "        text = re.sub(f'(?::)({emojistr})(?::)', str(' ' + emojistr.replace(r'_', '') + ' '),  text)\n",
    "        \n",
    "    return text"
   ]
  },
  {
   "cell_type": "code",
   "execution_count": 16,
   "metadata": {},
   "outputs": [],
   "source": [
    "import re\n",
    "import string\n",
    "import emoji\n",
    "from nltk.tokenize import RegexpTokenizer, regexp_tokenize\n",
    "\n",
    "def newline_remove(text):\n",
    "    regex = re.compile(r'\\n+', re.I)\n",
    "    text = regex.sub(' ', text)\n",
    "    return text\n",
    "\n",
    "\n",
    "def replace_coronavirus(text):\n",
    "    regex = re.compile(r'(corona[\\s]?virus)', re.I)\n",
    "    return regex.sub('coronavirus', text)\n",
    "\n",
    "\n",
    "def coronavirus_hashtags(text):\n",
    "    regex = re.compile(r'#(coronavirus)\\b', re.I)\n",
    "    return regex.sub('xxhash coronavirus', text)\n",
    "\n",
    "\n",
    "def replace_covid(text):\n",
    "    regex = re.compile(r'(covid[-\\s_]?19)|covid', re.I)\n",
    "    return regex.sub('covid19', text)\n",
    "\n",
    "\n",
    "def covid_hashtags(text):\n",
    "    regex = re.compile(r'#(covid[_-]?(19))', re.I)\n",
    "    return regex.sub('xxhash covid19', text)\n",
    "\n",
    "\n",
    "def sarscov2_replace(text):\n",
    "    regex = re.compile(r'(sars[-]?cov[-]?2)', re.I)\n",
    "    return regex.sub(r'sarscov2', text)\n",
    "\n",
    "\n",
    "def emoji_replace(text):\n",
    "    # first demojize text\n",
    "    text = emoji.demojize(text) # use_aliases=True)\n",
    "    regex = re.compile(r'(?<=:)(\\S+)(?=:)', re.I)\n",
    "    for item in regex.finditer(text):\n",
    "        emojistr = str(item.group())\n",
    "        replacestr = str(' xxemoji ' + emojistr.replace(r'_', '') + ' ')\n",
    "        pattern = r\"(?::)\" + re.escape(emojistr) + r\"(?::)\"\n",
    "        # r'(?::)({emojistr})(?::)'\n",
    "        text = re.sub(pattern, replacestr,  text)\n",
    "    return text\n",
    "\n",
    "\n",
    "def twitterpic_replace(text):\n",
    "    regex = re.compile(r\"pic.twitter.com/\\w+\", re.I)\n",
    "    return regex.sub(\" xxpictwit \", text)\n",
    "\n",
    "\n",
    "def youtube_replace(text):\n",
    "    regex = re.compile(r\"(https://youtu.be/(\\S+))|(https://www.youtube.(\\S+))\", re.I)\n",
    "    return regex.sub(\" xxyoutubeurl \", text)\n",
    "\n",
    "\n",
    "def url_replace(text):\n",
    "    regex1 = re.compile(r'(?:http|ftp|https)://(\\S+)|(?:www)\\.\\S+\\b', re.I)\n",
    "    regex2 = re.compile(r'((\\b\\S+)\\.(?:[a-z+]{2,3}))', re.I)\n",
    "    text = regex1.sub(' xxurl ', text)\n",
    "    text = regex2.sub(' xxurl ', text)\n",
    "    return text\n",
    "\n",
    "\n",
    "def punctuation_replace(text):\n",
    "    # put spaces between punctuation\n",
    "    PUNC = '!\"$%&\\'()*+,-./:;<=>?[\\\\]^_`{|}~…–”“’'\n",
    "    punct = r\"[\" + re.escape(PUNC) + r\"]\"\n",
    "    text = re.sub(\"(?<! )(?=\" + punct + \")|(?<=\" + punct + \")(?! )\", r\" \", text)\n",
    "    text = re.sub(r\"[^\\w\\s]\", 'xxpunc', text) # could replace with xxpunc\n",
    "    # remove any extra whitespace\n",
    "    text = re.sub(r'[ ]{2,}',' ',text)\n",
    "    return text\n",
    "\n",
    "\n",
    "def clean_wrapper(text, nltk_tokenize=False, punc_replace=False):\n",
    "    PUNC = '!\"$%&\\'()*+,-./:;<=>?[\\\\]^_`{|}~…–”“’'\n",
    "    # removes newline characters from text\n",
    "    text = newline_remove(text)\n",
    "    # standardizes all instances of coronavirus in text\n",
    "    text = replace_coronavirus(text)\n",
    "    # replaces instances of #coronavirus with special token, xxhashcoronavirus\n",
    "    text = coronavirus_hashtags(text)\n",
    "    # standardizes all instances of covid19\n",
    "    text = replace_covid(text)\n",
    "    # replaces instances of #covid19 with special token, xxhashcovid19\n",
    "    text = covid_hashtags(text)\n",
    "    # standardizes SARS-Cov-2 to sarscov2\n",
    "    text = sarscov2_replace(text)\n",
    "    # removes hashtag characters\n",
    "    text = text.replace(r'#', 'xxhash ')\n",
    "    # removes @ character\n",
    "    text = text.replace(r'@', 'xxmention ')\n",
    "    # replace emojies with special token xxemoji\n",
    "    text = emoji_replace(text)\n",
    "    # replace pic.twitter.com links with special token, xxpictwit\n",
    "    text = twitterpic_replace(text)\n",
    "    # replace YouTube links with special token, xxyoutubeurl\n",
    "    text = youtube_replace(text)\n",
    "    # replace other URLs with special token, xxurl\n",
    "    text = url_replace(text)\n",
    "    # if nltk_tokenize parameter True, then use regexp_tokenize from nltk library\n",
    "    if nltk_tokenize == True:\n",
    "        tokens = RegexpTokenizer('\\s+', gaps=True).tokenize(text)\n",
    "        text = ' '.join([''.join([char for char in word if char not in PUNC]) for word in tokens])\n",
    "    # if punc_replace set to True, replace all punctuations\n",
    "    if punc_replace == True:\n",
    "        text = punctuation_replace(text)\n",
    "    # remove any unnecessary whitespace\n",
    "    text = re.sub(r'[ ]{2,}',' ',text)\n",
    "    return text.strip()"
   ]
  },
  {
   "cell_type": "code",
   "execution_count": 18,
   "metadata": {},
   "outputs": [],
   "source": [
    "df['processed_tweet'] = df['full_text'].apply(clean_wrapper)"
   ]
  },
  {
   "cell_type": "code",
   "execution_count": 19,
   "metadata": {},
   "outputs": [],
   "source": [
    "df.to_json('playground_data/narratives_june6.json', orient='columns')"
   ]
  },
  {
   "cell_type": "code",
   "execution_count": 20,
   "metadata": {},
   "outputs": [
    {
     "name": "stdout",
     "output_type": "stream",
     "text": [
      "<class 'pandas.core.frame.DataFrame'>\n",
      "RangeIndex: 60 entries, 0 to 59\n",
      "Data columns (total 6 columns):\n",
      " #   Column           Non-Null Count  Dtype              \n",
      "---  ------           --------------  -----              \n",
      " 0   created_at       60 non-null     datetime64[ns, UTC]\n",
      " 1   id_str           60 non-null     int64              \n",
      " 2   full_text        60 non-null     object             \n",
      " 3   sentiment        60 non-null     float64            \n",
      " 4   narrative        60 non-null     object             \n",
      " 5   processed_tweet  60 non-null     object             \n",
      "dtypes: datetime64[ns, UTC](1), float64(1), int64(1), object(3)\n",
      "memory usage: 2.9+ KB\n"
     ]
    }
   ],
   "source": [
    "df.info()"
   ]
  },
  {
   "cell_type": "markdown",
   "metadata": {},
   "source": [
    "### _Embeddings --> Generated via Google Colab_\n",
    "\n",
    "### _UMAP_"
   ]
  },
  {
   "cell_type": "code",
   "execution_count": 86,
   "metadata": {},
   "outputs": [
    {
     "data": {
      "text/plain": [
       "PosixPath('/Users/jairesearch/Documents/SharpestMinds/covid_disinfo_detect')"
      ]
     },
     "execution_count": 86,
     "metadata": {},
     "output_type": "execute_result"
    }
   ],
   "source": [
    "Path.cwd().parent"
   ]
  },
  {
   "cell_type": "code",
   "execution_count": 12,
   "metadata": {},
   "outputs": [],
   "source": [
    "def load_embeddings():\n",
    "    path = Path().cwd() / 'playground_data'\n",
    "    filename = input('What is the file name?\\n')\n",
    "    pkl_file = open(\n",
    "        path / filename, 'rb'\n",
    "    )\n",
    "    X = pickle.load(pkl_file)\n",
    "    return X"
   ]
  },
  {
   "cell_type": "code",
   "execution_count": 15,
   "metadata": {},
   "outputs": [
    {
     "name": "stdin",
     "output_type": "stream",
     "text": [
      "What is the file name?\n",
      " narratives_june2_embeddings.pkl\n"
     ]
    }
   ],
   "source": [
    "X = load_embeddings()"
   ]
  },
  {
   "cell_type": "code",
   "execution_count": 16,
   "metadata": {},
   "outputs": [],
   "source": [
    "def apply_umap(X):\n",
    "    dr = umap.UMAP(n_components=2, metric='cosine')\n",
    "    dr.fit(X)\n",
    "    X_dr = dr.transform(X)\n",
    "    return X_dr"
   ]
  },
  {
   "cell_type": "code",
   "execution_count": 17,
   "metadata": {},
   "outputs": [],
   "source": [
    "def plot_reduced_2D(X_dr, dr_type):\n",
    "    _, ax = plt.subplots(figsize=(10,10))\n",
    "    ax.scatter(X_dr[:,0],X_dr[:,1], alpha=0.8)\n",
    "    ax.set_title(dr_type+' with 2 components')\n",
    "    plt.show()"
   ]
  },
  {
   "cell_type": "code",
   "execution_count": 18,
   "metadata": {},
   "outputs": [
    {
     "name": "stderr",
     "output_type": "stream",
     "text": [
      "/Users/jairesearch/opt/anaconda3/envs/SM_test/lib/python3.6/site-packages/numba/np/ufunc/parallel.py:355: NumbaWarning: The TBB threading layer requires TBB version 2019.5 or later i.e., TBB_INTERFACE_VERSION >= 11005. Found TBB_INTERFACE_VERSION = 11000. The TBB threading layer is disabled.\n",
      "  warnings.warn(problem)\n"
     ]
    },
    {
     "data": {
      "image/png": "[encoded data removed]",
      "text/plain": [
       "<Figure size 720x720 with 1 Axes>"
      ]
     },
     "metadata": {
      "image/png": {
       "height": 590,
       "width": 594
      },
      "needs_background": "light"
     },
     "output_type": "display_data"
    }
   ],
   "source": [
    "X_dr = apply_umap(X)\n",
    "plot_reduced_2D(X_dr, 'UMAP')"
   ]
  },
  {
   "cell_type": "markdown",
   "metadata": {},
   "source": [
    "## _Bokeh_"
   ]
  },
  {
   "cell_type": "code",
   "execution_count": 24,
   "metadata": {},
   "outputs": [
    {
     "data": {
      "text/html": [
       "<div>\n",
       "<style scoped>\n",
       "    .dataframe tbody tr th:only-of-type {\n",
       "        vertical-align: middle;\n",
       "    }\n",
       "\n",
       "    .dataframe tbody tr th {\n",
       "        vertical-align: top;\n",
       "    }\n",
       "\n",
       "    .dataframe thead th {\n",
       "        text-align: right;\n",
       "    }\n",
       "</style>\n",
       "<table border=\"1\" class=\"dataframe\">\n",
       "  <thead>\n",
       "    <tr style=\"text-align: right;\">\n",
       "      <th></th>\n",
       "      <th>x</th>\n",
       "      <th>y</th>\n",
       "    </tr>\n",
       "  </thead>\n",
       "  <tbody>\n",
       "    <tr>\n",
       "      <th>0</th>\n",
       "      <td>4.451138</td>\n",
       "      <td>-4.292727</td>\n",
       "    </tr>\n",
       "    <tr>\n",
       "      <th>1</th>\n",
       "      <td>4.081532</td>\n",
       "      <td>-3.990924</td>\n",
       "    </tr>\n",
       "    <tr>\n",
       "      <th>2</th>\n",
       "      <td>4.057976</td>\n",
       "      <td>-3.479686</td>\n",
       "    </tr>\n",
       "    <tr>\n",
       "      <th>3</th>\n",
       "      <td>5.718941</td>\n",
       "      <td>-3.844630</td>\n",
       "    </tr>\n",
       "    <tr>\n",
       "      <th>4</th>\n",
       "      <td>-2.239028</td>\n",
       "      <td>5.532303</td>\n",
       "    </tr>\n",
       "  </tbody>\n",
       "</table>\n",
       "</div>"
      ],
      "text/plain": [
       "          x         y\n",
       "0  4.451138 -4.292727\n",
       "1  4.081532 -3.990924\n",
       "2  4.057976 -3.479686\n",
       "3  5.718941 -3.844630\n",
       "4 -2.239028  5.532303"
      ]
     },
     "execution_count": 24,
     "metadata": {},
     "output_type": "execute_result"
    }
   ],
   "source": [
    "tweet_embed_df = pd.DataFrame(X_dr, columns=('x', 'y'))\n",
    "tweet_embed_df.head()"
   ]
  },
  {
   "cell_type": "code",
   "execution_count": 28,
   "metadata": {},
   "outputs": [],
   "source": [
    "tweet_embed_df['tweet'] = [str(x) for x in df['tweet']]\n",
    "tweet_embed_df['narrative'] = [str(x) for x in df['narrative']]"
   ]
  },
  {
   "cell_type": "code",
   "execution_count": 29,
   "metadata": {},
   "outputs": [
    {
     "data": {
      "text/html": [
       "<div>\n",
       "<style scoped>\n",
       "    .dataframe tbody tr th:only-of-type {\n",
       "        vertical-align: middle;\n",
       "    }\n",
       "\n",
       "    .dataframe tbody tr th {\n",
       "        vertical-align: top;\n",
       "    }\n",
       "\n",
       "    .dataframe thead th {\n",
       "        text-align: right;\n",
       "    }\n",
       "</style>\n",
       "<table border=\"1\" class=\"dataframe\">\n",
       "  <thead>\n",
       "    <tr style=\"text-align: right;\">\n",
       "      <th></th>\n",
       "      <th>x</th>\n",
       "      <th>y</th>\n",
       "      <th>tweet</th>\n",
       "      <th>narrative</th>\n",
       "    </tr>\n",
       "  </thead>\n",
       "  <tbody>\n",
       "    <tr>\n",
       "      <th>0</th>\n",
       "      <td>4.451138</td>\n",
       "      <td>-4.292727</td>\n",
       "      <td>JIM BAKKER - CONMAN - has been pushing a subst...</td>\n",
       "      <td>silver_cure</td>\n",
       "    </tr>\n",
       "    <tr>\n",
       "      <th>1</th>\n",
       "      <td>4.081532</td>\n",
       "      <td>-3.990924</td>\n",
       "      <td>Hard no. The same way I wouldn’t buy Silver So...</td>\n",
       "      <td>silver_cure</td>\n",
       "    </tr>\n",
       "    <tr>\n",
       "      <th>2</th>\n",
       "      <td>4.057976</td>\n",
       "      <td>-3.479686</td>\n",
       "      <td>TELEVANGELIST SELLS $125 'SILVER SOLUTION' AS ...</td>\n",
       "      <td>silver_cure</td>\n",
       "    </tr>\n",
       "    <tr>\n",
       "      <th>3</th>\n",
       "      <td>5.718941</td>\n",
       "      <td>-3.844630</td>\n",
       "      <td>A conspiracy theorist who scammed people with ...</td>\n",
       "      <td>silver_cure</td>\n",
       "    </tr>\n",
       "    <tr>\n",
       "      <th>4</th>\n",
       "      <td>-2.239028</td>\n",
       "      <td>5.532303</td>\n",
       "      <td>#Blockchain - \"the silver bullet solution for ...</td>\n",
       "      <td>silver_cure</td>\n",
       "    </tr>\n",
       "  </tbody>\n",
       "</table>\n",
       "</div>"
      ],
      "text/plain": [
       "          x         y                                              tweet  \\\n",
       "0  4.451138 -4.292727  JIM BAKKER - CONMAN - has been pushing a subst...   \n",
       "1  4.081532 -3.990924  Hard no. The same way I wouldn’t buy Silver So...   \n",
       "2  4.057976 -3.479686  TELEVANGELIST SELLS $125 'SILVER SOLUTION' AS ...   \n",
       "3  5.718941 -3.844630  A conspiracy theorist who scammed people with ...   \n",
       "4 -2.239028  5.532303  #Blockchain - \"the silver bullet solution for ...   \n",
       "\n",
       "     narrative  \n",
       "0  silver_cure  \n",
       "1  silver_cure  \n",
       "2  silver_cure  \n",
       "3  silver_cure  \n",
       "4  silver_cure  "
      ]
     },
     "execution_count": 29,
     "metadata": {},
     "output_type": "execute_result"
    }
   ],
   "source": [
    "tweet_embed_df.head()"
   ]
  },
  {
   "cell_type": "code",
   "execution_count": null,
   "metadata": {},
   "outputs": [],
   "source": []
  },
  {
   "cell_type": "code",
   "execution_count": null,
   "metadata": {},
   "outputs": [],
   "source": []
  },
  {
   "cell_type": "code",
   "execution_count": null,
   "metadata": {},
   "outputs": [],
   "source": []
  },
  {
   "cell_type": "code",
   "execution_count": null,
   "metadata": {},
   "outputs": [],
   "source": []
  },
  {
   "cell_type": "code",
   "execution_count": null,
   "metadata": {},
   "outputs": [],
   "source": []
  },
  {
   "cell_type": "code",
   "execution_count": null,
   "metadata": {},
   "outputs": [],
   "source": []
  }
 ],
 "metadata": {
  "kernelspec": {
   "display_name": "Python 3",
   "language": "python",
   "name": "python3"
  },
  "language_info": {
   "codemirror_mode": {
    "name": "ipython",
    "version": 3
   },
   "file_extension": ".py",
   "mimetype": "text/x-python",
   "name": "python",
   "nbconvert_exporter": "python",
   "pygments_lexer": "ipython3",
   "version": "3.6.10"
  }
 },
 "nbformat": 4,
 "nbformat_minor": 4
}
