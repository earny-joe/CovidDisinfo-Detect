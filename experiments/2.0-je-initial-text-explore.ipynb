{
 "cells": [
  {
   "cell_type": "markdown",
   "metadata": {},
   "source": [
    "# _Experimentation: March 24, 2020_\n",
    "\n",
    "**TL;DR** --> Explore strategies to analyze text of tweets, and see if there are any potential instances of disinformation."
   ]
  },
  {
   "cell_type": "code",
   "execution_count": 52,
   "metadata": {},
   "outputs": [
    {
     "name": "stderr",
     "output_type": "stream",
     "text": [
      "/opt/conda/envs/fastai/lib/python3.7/site-packages/ipykernel_launcher.py:13: TqdmExperimentalWarning: Using `tqdm.autonotebook.tqdm` in notebook mode. Use `tqdm.tqdm` instead to force console mode (e.g. in jupyter console)\n",
      "  del sys.path[0]\n",
      "/opt/conda/envs/fastai/lib/python3.7/site-packages/tqdm/std.py:658: FutureWarning: The Panel class is removed from pandas. Accessing it from the top-level namespace will also be removed in the next version\n",
      "  from pandas import Panel\n"
     ]
    }
   ],
   "source": [
    "%reload_ext autoreload\n",
    "%autoreload 2\n",
    "%matplotlib inline\n",
    "%config InlineBackend.figure_format = 'retina'\n",
    "# import libraries\n",
    "import pandas as pd\n",
    "pd.options.display.max_columns = None\n",
    "import numpy as np\n",
    "import random\n",
    "import string\n",
    "import os\n",
    "import re\n",
    "from tqdm.autonotebook import tqdm\n",
    "tqdm.pandas()\n",
    "\n",
    "# Matplotlib\n",
    "import matplotlib as mpl\n",
    "import matplotlib.pyplot as plt\n",
    "import seaborn as sns\n",
    "plt.style.use('fivethirtyeight')"
   ]
  },
  {
   "cell_type": "markdown",
   "metadata": {},
   "source": [
    "## _Load Data_"
   ]
  },
  {
   "cell_type": "code",
   "execution_count": 2,
   "metadata": {},
   "outputs": [],
   "source": [
    "def load_data(origpath, datapath, filename):\n",
    "    \"\"\"\n",
    "    Given path to a specific data directory, loads in data from given filename\n",
    "    \"\"\"\n",
    "    # change directory to where data is located\n",
    "    os.chdir(datapath)\n",
    "    # load in data with given filename\n",
    "    df = pd.read_pickle(filename)\n",
    "    # change directory back to original\n",
    "    os.chdir(origpath)\n",
    "    # return dataframe\n",
    "    return df"
   ]
  },
  {
   "cell_type": "code",
   "execution_count": 3,
   "metadata": {},
   "outputs": [],
   "source": [
    "origpath = \"/notebooks/CovidDisinfo-Detect/experiments\"\n",
    "datapath = \"/notebooks/CovidDisinfo-Detect/data/interim\"\n",
    "filename = \"coronavirus_20200324.pkl\""
   ]
  },
  {
   "cell_type": "code",
   "execution_count": 34,
   "metadata": {},
   "outputs": [
    {
     "name": "stdout",
     "output_type": "stream",
     "text": [
      "CPU times: user 404 ms, sys: 254 ms, total: 658 ms\n",
      "Wall time: 657 ms\n"
     ]
    }
   ],
   "source": [
    "%%time\n",
    "df = load_data(origpath, datapath, filename)"
   ]
  },
  {
   "cell_type": "code",
   "execution_count": 35,
   "metadata": {},
   "outputs": [
    {
     "name": "stdout",
     "output_type": "stream",
     "text": [
      "<class 'pandas.core.frame.DataFrame'>\n",
      "DatetimeIndex: 300011 entries, 2020-03-23 06:59:59+00:00 to 2020-03-22 23:57:53+00:00\n",
      "Data columns (total 19 columns):\n",
      " #   Column              Non-Null Count   Dtype \n",
      "---  ------              --------------   ----- \n",
      " 0   id                  300011 non-null  int64 \n",
      " 1   conversation_id     300011 non-null  int64 \n",
      " 2   user_id             300011 non-null  int64 \n",
      " 3   username            300011 non-null  object\n",
      " 4   name                300011 non-null  object\n",
      " 5   tweet               300011 non-null  object\n",
      " 6   mentions            300011 non-null  object\n",
      " 7   urls                300011 non-null  object\n",
      " 8   photos              300011 non-null  object\n",
      " 9   replies_count       300011 non-null  int64 \n",
      " 10  retweets_count      300011 non-null  int64 \n",
      " 11  likes_count         300011 non-null  int64 \n",
      " 12  hashtags            300011 non-null  object\n",
      " 13  link                300011 non-null  object\n",
      " 14  retweet             300011 non-null  bool  \n",
      " 15  quote_url           300011 non-null  object\n",
      " 16  video               300011 non-null  int64 \n",
      " 17  reply_to_userids    300011 non-null  object\n",
      " 18  reply_to_usernames  300011 non-null  object\n",
      "dtypes: bool(1), int64(7), object(11)\n",
      "memory usage: 43.8+ MB\n"
     ]
    }
   ],
   "source": [
    "df.info()"
   ]
  },
  {
   "cell_type": "code",
   "execution_count": 36,
   "metadata": {},
   "outputs": [
    {
     "data": {
      "text/html": [
       "<div>\n",
       "<style scoped>\n",
       "    .dataframe tbody tr th:only-of-type {\n",
       "        vertical-align: middle;\n",
       "    }\n",
       "\n",
       "    .dataframe tbody tr th {\n",
       "        vertical-align: top;\n",
       "    }\n",
       "\n",
       "    .dataframe thead th {\n",
       "        text-align: right;\n",
       "    }\n",
       "</style>\n",
       "<table border=\"1\" class=\"dataframe\">\n",
       "  <thead>\n",
       "    <tr style=\"text-align: right;\">\n",
       "      <th></th>\n",
       "      <th>id</th>\n",
       "      <th>conversation_id</th>\n",
       "      <th>user_id</th>\n",
       "      <th>username</th>\n",
       "      <th>name</th>\n",
       "      <th>tweet</th>\n",
       "      <th>mentions</th>\n",
       "      <th>urls</th>\n",
       "      <th>photos</th>\n",
       "      <th>replies_count</th>\n",
       "      <th>retweets_count</th>\n",
       "      <th>likes_count</th>\n",
       "      <th>hashtags</th>\n",
       "      <th>link</th>\n",
       "      <th>retweet</th>\n",
       "      <th>quote_url</th>\n",
       "      <th>video</th>\n",
       "      <th>reply_to_userids</th>\n",
       "      <th>reply_to_usernames</th>\n",
       "    </tr>\n",
       "    <tr>\n",
       "      <th>created_at</th>\n",
       "      <th></th>\n",
       "      <th></th>\n",
       "      <th></th>\n",
       "      <th></th>\n",
       "      <th></th>\n",
       "      <th></th>\n",
       "      <th></th>\n",
       "      <th></th>\n",
       "      <th></th>\n",
       "      <th></th>\n",
       "      <th></th>\n",
       "      <th></th>\n",
       "      <th></th>\n",
       "      <th></th>\n",
       "      <th></th>\n",
       "      <th></th>\n",
       "      <th></th>\n",
       "      <th></th>\n",
       "      <th></th>\n",
       "    </tr>\n",
       "  </thead>\n",
       "  <tbody>\n",
       "    <tr>\n",
       "      <th>2020-03-23 06:59:59+00:00</th>\n",
       "      <td>1241877316734717953</td>\n",
       "      <td>1241877316734717952</td>\n",
       "      <td>4128946034</td>\n",
       "      <td>sanjacintoclan</td>\n",
       "      <td>SanJacintoClan</td>\n",
       "      <td>Trump, at White House briefing, outlines broad...</td>\n",
       "      <td>none</td>\n",
       "      <td>https://www.foxnews.com/politics/trump-coronav...</td>\n",
       "      <td>none</td>\n",
       "      <td>0</td>\n",
       "      <td>0</td>\n",
       "      <td>1</td>\n",
       "      <td>none</td>\n",
       "      <td>https://twitter.com/SanJacintoClan/status/1241...</td>\n",
       "      <td>False</td>\n",
       "      <td>none</td>\n",
       "      <td>0</td>\n",
       "      <td>4128946034</td>\n",
       "      <td>SanJacintoClan</td>\n",
       "    </tr>\n",
       "    <tr>\n",
       "      <th>2020-03-23 06:59:59+00:00</th>\n",
       "      <td>1241877315648401408</td>\n",
       "      <td>1241877315648401408</td>\n",
       "      <td>858501829</td>\n",
       "      <td>harrietnix</td>\n",
       "      <td>Harriet Nix, The Egyptian Queen</td>\n",
       "      <td>BREAKING: Rand Paul Has Tested Positive For Th...</td>\n",
       "      <td>none</td>\n",
       "      <td>https://trendingpolitics.com/breaking-rand-pau...</td>\n",
       "      <td>none</td>\n",
       "      <td>0</td>\n",
       "      <td>1</td>\n",
       "      <td>1</td>\n",
       "      <td>none</td>\n",
       "      <td>https://twitter.com/HarrietNix/status/12418773...</td>\n",
       "      <td>False</td>\n",
       "      <td>none</td>\n",
       "      <td>0</td>\n",
       "      <td>858501829</td>\n",
       "      <td>HarrietNix</td>\n",
       "    </tr>\n",
       "    <tr>\n",
       "      <th>2020-03-23 06:59:59+00:00</th>\n",
       "      <td>1241877315623112704</td>\n",
       "      <td>1241877315623112704</td>\n",
       "      <td>614853</td>\n",
       "      <td>vajra</td>\n",
       "      <td>E Brown</td>\n",
       "      <td>Spanish opera singer Placido Domingo tests pos...</td>\n",
       "      <td>none</td>\n",
       "      <td>https://reut.rs/2WwhA3H</td>\n",
       "      <td>none</td>\n",
       "      <td>0</td>\n",
       "      <td>0</td>\n",
       "      <td>0</td>\n",
       "      <td>none</td>\n",
       "      <td>https://twitter.com/vajra/status/1241877315623...</td>\n",
       "      <td>False</td>\n",
       "      <td>none</td>\n",
       "      <td>0</td>\n",
       "      <td>614853</td>\n",
       "      <td>vajra</td>\n",
       "    </tr>\n",
       "    <tr>\n",
       "      <th>2020-03-23 06:59:59+00:00</th>\n",
       "      <td>1241877315447148544</td>\n",
       "      <td>1241877315447148544</td>\n",
       "      <td>374822255</td>\n",
       "      <td>skift</td>\n",
       "      <td>Skift</td>\n",
       "      <td>This week, travel startups @bimbleapp and @Pru...</td>\n",
       "      <td>bimbleapp,pruvoweb</td>\n",
       "      <td>https://bit.ly/3949hyr</td>\n",
       "      <td>none</td>\n",
       "      <td>0</td>\n",
       "      <td>0</td>\n",
       "      <td>2</td>\n",
       "      <td>none</td>\n",
       "      <td>https://twitter.com/skift/status/1241877315447...</td>\n",
       "      <td>False</td>\n",
       "      <td>none</td>\n",
       "      <td>0</td>\n",
       "      <td>374822255,842419111162482689,717347878344257536</td>\n",
       "      <td>skift,bimbleapp,PruvoWeb</td>\n",
       "    </tr>\n",
       "    <tr>\n",
       "      <th>2020-03-23 06:59:59+00:00</th>\n",
       "      <td>1241877312871845891</td>\n",
       "      <td>1241877312871845888</td>\n",
       "      <td>489756858</td>\n",
       "      <td>gpbgeorge</td>\n",
       "      <td>GEORGE(Dancing&amp;more)</td>\n",
       "      <td>Coronavirus: IOC considers postponing 2020 Tok...</td>\n",
       "      <td>none</td>\n",
       "      <td>https://twitter.com/i/events/1219057585707315201</td>\n",
       "      <td>none</td>\n",
       "      <td>0</td>\n",
       "      <td>0</td>\n",
       "      <td>1</td>\n",
       "      <td>#coronavirus</td>\n",
       "      <td>https://twitter.com/GPBGeorge/status/124187731...</td>\n",
       "      <td>False</td>\n",
       "      <td>none</td>\n",
       "      <td>0</td>\n",
       "      <td>489756858</td>\n",
       "      <td>GPBGeorge</td>\n",
       "    </tr>\n",
       "  </tbody>\n",
       "</table>\n",
       "</div>"
      ],
      "text/plain": [
       "                                            id      conversation_id  \\\n",
       "created_at                                                            \n",
       "2020-03-23 06:59:59+00:00  1241877316734717953  1241877316734717952   \n",
       "2020-03-23 06:59:59+00:00  1241877315648401408  1241877315648401408   \n",
       "2020-03-23 06:59:59+00:00  1241877315623112704  1241877315623112704   \n",
       "2020-03-23 06:59:59+00:00  1241877315447148544  1241877315447148544   \n",
       "2020-03-23 06:59:59+00:00  1241877312871845891  1241877312871845888   \n",
       "\n",
       "                              user_id        username  \\\n",
       "created_at                                              \n",
       "2020-03-23 06:59:59+00:00  4128946034  sanjacintoclan   \n",
       "2020-03-23 06:59:59+00:00   858501829      harrietnix   \n",
       "2020-03-23 06:59:59+00:00      614853           vajra   \n",
       "2020-03-23 06:59:59+00:00   374822255           skift   \n",
       "2020-03-23 06:59:59+00:00   489756858       gpbgeorge   \n",
       "\n",
       "                                                      name  \\\n",
       "created_at                                                   \n",
       "2020-03-23 06:59:59+00:00                   SanJacintoClan   \n",
       "2020-03-23 06:59:59+00:00  Harriet Nix, The Egyptian Queen   \n",
       "2020-03-23 06:59:59+00:00                          E Brown   \n",
       "2020-03-23 06:59:59+00:00                            Skift   \n",
       "2020-03-23 06:59:59+00:00             GEORGE(Dancing&more)   \n",
       "\n",
       "                                                                       tweet  \\\n",
       "created_at                                                                     \n",
       "2020-03-23 06:59:59+00:00  Trump, at White House briefing, outlines broad...   \n",
       "2020-03-23 06:59:59+00:00  BREAKING: Rand Paul Has Tested Positive For Th...   \n",
       "2020-03-23 06:59:59+00:00  Spanish opera singer Placido Domingo tests pos...   \n",
       "2020-03-23 06:59:59+00:00  This week, travel startups @bimbleapp and @Pru...   \n",
       "2020-03-23 06:59:59+00:00  Coronavirus: IOC considers postponing 2020 Tok...   \n",
       "\n",
       "                                     mentions  \\\n",
       "created_at                                      \n",
       "2020-03-23 06:59:59+00:00                none   \n",
       "2020-03-23 06:59:59+00:00                none   \n",
       "2020-03-23 06:59:59+00:00                none   \n",
       "2020-03-23 06:59:59+00:00  bimbleapp,pruvoweb   \n",
       "2020-03-23 06:59:59+00:00                none   \n",
       "\n",
       "                                                                        urls  \\\n",
       "created_at                                                                     \n",
       "2020-03-23 06:59:59+00:00  https://www.foxnews.com/politics/trump-coronav...   \n",
       "2020-03-23 06:59:59+00:00  https://trendingpolitics.com/breaking-rand-pau...   \n",
       "2020-03-23 06:59:59+00:00                            https://reut.rs/2WwhA3H   \n",
       "2020-03-23 06:59:59+00:00                             https://bit.ly/3949hyr   \n",
       "2020-03-23 06:59:59+00:00   https://twitter.com/i/events/1219057585707315201   \n",
       "\n",
       "                          photos  replies_count  retweets_count  likes_count  \\\n",
       "created_at                                                                     \n",
       "2020-03-23 06:59:59+00:00   none              0               0            1   \n",
       "2020-03-23 06:59:59+00:00   none              0               1            1   \n",
       "2020-03-23 06:59:59+00:00   none              0               0            0   \n",
       "2020-03-23 06:59:59+00:00   none              0               0            2   \n",
       "2020-03-23 06:59:59+00:00   none              0               0            1   \n",
       "\n",
       "                               hashtags  \\\n",
       "created_at                                \n",
       "2020-03-23 06:59:59+00:00          none   \n",
       "2020-03-23 06:59:59+00:00          none   \n",
       "2020-03-23 06:59:59+00:00          none   \n",
       "2020-03-23 06:59:59+00:00          none   \n",
       "2020-03-23 06:59:59+00:00  #coronavirus   \n",
       "\n",
       "                                                                        link  \\\n",
       "created_at                                                                     \n",
       "2020-03-23 06:59:59+00:00  https://twitter.com/SanJacintoClan/status/1241...   \n",
       "2020-03-23 06:59:59+00:00  https://twitter.com/HarrietNix/status/12418773...   \n",
       "2020-03-23 06:59:59+00:00  https://twitter.com/vajra/status/1241877315623...   \n",
       "2020-03-23 06:59:59+00:00  https://twitter.com/skift/status/1241877315447...   \n",
       "2020-03-23 06:59:59+00:00  https://twitter.com/GPBGeorge/status/124187731...   \n",
       "\n",
       "                           retweet quote_url  video  \\\n",
       "created_at                                            \n",
       "2020-03-23 06:59:59+00:00    False      none      0   \n",
       "2020-03-23 06:59:59+00:00    False      none      0   \n",
       "2020-03-23 06:59:59+00:00    False      none      0   \n",
       "2020-03-23 06:59:59+00:00    False      none      0   \n",
       "2020-03-23 06:59:59+00:00    False      none      0   \n",
       "\n",
       "                                                          reply_to_userids  \\\n",
       "created_at                                                                   \n",
       "2020-03-23 06:59:59+00:00                                       4128946034   \n",
       "2020-03-23 06:59:59+00:00                                        858501829   \n",
       "2020-03-23 06:59:59+00:00                                           614853   \n",
       "2020-03-23 06:59:59+00:00  374822255,842419111162482689,717347878344257536   \n",
       "2020-03-23 06:59:59+00:00                                        489756858   \n",
       "\n",
       "                                 reply_to_usernames  \n",
       "created_at                                           \n",
       "2020-03-23 06:59:59+00:00            SanJacintoClan  \n",
       "2020-03-23 06:59:59+00:00                HarrietNix  \n",
       "2020-03-23 06:59:59+00:00                     vajra  \n",
       "2020-03-23 06:59:59+00:00  skift,bimbleapp,PruvoWeb  \n",
       "2020-03-23 06:59:59+00:00                 GPBGeorge  "
      ]
     },
     "execution_count": 36,
     "metadata": {},
     "output_type": "execute_result"
    }
   ],
   "source": [
    "df[:5]"
   ]
  },
  {
   "cell_type": "markdown",
   "metadata": {},
   "source": [
    "## _Clean up Tweet Text_"
   ]
  },
  {
   "cell_type": "code",
   "execution_count": 37,
   "metadata": {},
   "outputs": [
    {
     "data": {
      "text/plain": [
       "0.2652002759898804"
      ]
     },
     "execution_count": 37,
     "metadata": {},
     "output_type": "execute_result"
    }
   ],
   "source": [
    "# what percentage of the tweets contain a newline character (either \\n or \\n\\n)\n",
    "df[\"tweet\"].str.contains(r\"\\n|\\n\\n\").mean()"
   ]
  },
  {
   "cell_type": "code",
   "execution_count": 38,
   "metadata": {},
   "outputs": [],
   "source": [
    "import spacy\n",
    "from spacy.lang.en.stop_words import STOP_WORDS\n",
    "from spacy.lang.en import English"
   ]
  },
  {
   "cell_type": "code",
   "execution_count": 39,
   "metadata": {},
   "outputs": [],
   "source": [
    "def remove_pattern(input_text, pattern, space=False):\n",
    "    # find all patterns in given text\n",
    "    r = re.findall(pattern, input_text)\n",
    "    # for each occurrence\n",
    "    for i in r:\n",
    "        if space == True:\n",
    "            input_text = re.sub(i, \" \", input_text)\n",
    "        else:\n",
    "            # remove and replace with blank\n",
    "            input_text = re.sub(i, \"\", input_text)\n",
    "    # return text\n",
    "    return input_text"
   ]
  },
  {
   "cell_type": "code",
   "execution_count": 40,
   "metadata": {},
   "outputs": [],
   "source": [
    "def spacy_tokenizer(parser, text):\n",
    "    # create token object\n",
    "    mytokens = parser(text)\n",
    "    # lemmatize each token and convert into lowercase\n",
    "    mytokens = [word.lemma_.lower().strip() if word.lemma_ != \"-PRON-\" else word.lower_ for word in mytokens]\n",
    "    # remove stop words\n",
    "    mytokens = [word for word in mytokens if word not in STOP_WORDS]\n",
    "    # return processed list of tokens\n",
    "    return mytokens"
   ]
  },
  {
   "cell_type": "code",
   "execution_count": 46,
   "metadata": {},
   "outputs": [],
   "source": [
    "def clean_tweet(df):\n",
    "    \"\"\"\n",
    "    Given a dataframe, clean up the tweet column to (hopefully) make it easier to analyze.\n",
    "    \"\"\"\n",
    "    # load spacy\n",
    "    nlp = spacy.load('en_core_web_md')\n",
    "    # create list of puntuation marks\n",
    "    punctuations = string.punctuation\n",
    "    # load english tokenizer, tagger, parser, NEW and word_vectors\n",
    "    parser = English()\n",
    "    # create a new column that contains \"clean\" tweet text, beginning with removing newline characters\n",
    "    df[\"clean_tweet\"] = df[\"tweet\"].str.replace(r\"\\n|\\n\\n\", \" \")\n",
    "    # removes all user mentions (since we have them in a separate column already)\n",
    "    print(\"Removing user mentions...\")\n",
    "    df[\"clean_tweet\"] = df[\"clean_tweet\"].apply(lambda x: remove_pattern(x, \"@[\\w]*\"))\n",
    "    # remove special characters, numbers, punctuations\n",
    "    print(\"Removing special characters, numbers, punctuations...\")\n",
    "    df[\"clean_tweet\"] = df[\"clean_tweet\"].str.replace(\"[^a-zA-Z#]\", \" \")\n",
    "    # removing short words --> remove all words having character length less than 3\n",
    "    print(\"Removing short words (character length less than 3)...\")\n",
    "    df[\"clean_tweet\"] = df[\"clean_tweet\"].apply(lambda x: \" \".join([w for w in x.split() if len(w) > 3]))\n",
    "    # remove urls\n",
    "    print(\"Removing URLs...\")\n",
    "    df[\"clean_tweet\"] = df[\"clean_tweet\"].apply(lambda x: remove_pattern(x, r\"http\\S+\"))\n",
    "    # remove hashtags (but keep words)\n",
    "    print(\"Removing hashtags (but keeping word(s))...\")\n",
    "    df[\"clean_tweet\"] = df[\"clean_tweet\"].str.replace(\"#\", \"\")\n",
    "    # tokenize with spacy\n",
    "    print(\"Tokenizing w/ spaCy...\")\n",
    "    df[\"clean_tweet\"] = df[\"clean_tweet\"].progress_apply(lambda x: \" \".join(spacy_tokenizer(parser, x)))\n",
    "    print(\"Done!\")\n",
    "    return df"
   ]
  },
  {
   "cell_type": "code",
   "execution_count": 55,
   "metadata": {},
   "outputs": [
    {
     "name": "stdout",
     "output_type": "stream",
     "text": [
      "Removing user mentions...\n",
      "Removing special characters, numbers, punctuations...\n",
      "Removing short words (character length less than 3)...\n",
      "Removing URLs...\n",
      "Removing hashtags (but keeping word(s))...\n",
      "Tokenizing w/ spaCy...\n"
     ]
    },
    {
     "data": {
      "application/vnd.jupyter.widget-view+json": {
       "model_id": "20a50ea7cc2e46d887fdcb318a4ac00e",
       "version_major": 2,
       "version_minor": 0
      },
      "text/plain": [
       "HBox(children=(FloatProgress(value=0.0, max=300011.0), HTML(value='')))"
      ]
     },
     "metadata": {},
     "output_type": "display_data"
    },
    {
     "name": "stdout",
     "output_type": "stream",
     "text": [
      "\n",
      "Done!\n",
      "CPU times: user 1min 31s, sys: 501 ms, total: 1min 31s\n",
      "Wall time: 1min 31s\n"
     ]
    }
   ],
   "source": [
    "%%time\n",
    "df_cleantext = clean_tweet(df)"
   ]
  },
  {
   "cell_type": "code",
   "execution_count": 60,
   "metadata": {},
   "outputs": [
    {
     "data": {
      "text/html": [
       "<div>\n",
       "<style scoped>\n",
       "    .dataframe tbody tr th:only-of-type {\n",
       "        vertical-align: middle;\n",
       "    }\n",
       "\n",
       "    .dataframe tbody tr th {\n",
       "        vertical-align: top;\n",
       "    }\n",
       "\n",
       "    .dataframe thead th {\n",
       "        text-align: right;\n",
       "    }\n",
       "</style>\n",
       "<table border=\"1\" class=\"dataframe\">\n",
       "  <thead>\n",
       "    <tr style=\"text-align: right;\">\n",
       "      <th></th>\n",
       "      <th>id</th>\n",
       "      <th>conversation_id</th>\n",
       "      <th>user_id</th>\n",
       "      <th>username</th>\n",
       "      <th>name</th>\n",
       "      <th>tweet</th>\n",
       "      <th>mentions</th>\n",
       "      <th>urls</th>\n",
       "      <th>photos</th>\n",
       "      <th>replies_count</th>\n",
       "      <th>retweets_count</th>\n",
       "      <th>likes_count</th>\n",
       "      <th>hashtags</th>\n",
       "      <th>link</th>\n",
       "      <th>retweet</th>\n",
       "      <th>quote_url</th>\n",
       "      <th>video</th>\n",
       "      <th>reply_to_userids</th>\n",
       "      <th>reply_to_usernames</th>\n",
       "      <th>clean_tweet</th>\n",
       "    </tr>\n",
       "    <tr>\n",
       "      <th>created_at</th>\n",
       "      <th></th>\n",
       "      <th></th>\n",
       "      <th></th>\n",
       "      <th></th>\n",
       "      <th></th>\n",
       "      <th></th>\n",
       "      <th></th>\n",
       "      <th></th>\n",
       "      <th></th>\n",
       "      <th></th>\n",
       "      <th></th>\n",
       "      <th></th>\n",
       "      <th></th>\n",
       "      <th></th>\n",
       "      <th></th>\n",
       "      <th></th>\n",
       "      <th></th>\n",
       "      <th></th>\n",
       "      <th></th>\n",
       "      <th></th>\n",
       "    </tr>\n",
       "  </thead>\n",
       "  <tbody>\n",
       "    <tr>\n",
       "      <th>2020-03-23 06:59:59+00:00</th>\n",
       "      <td>1241877316734717953</td>\n",
       "      <td>1241877316734717952</td>\n",
       "      <td>4128946034</td>\n",
       "      <td>sanjacintoclan</td>\n",
       "      <td>SanJacintoClan</td>\n",
       "      <td>Trump, at White House briefing, outlines broad...</td>\n",
       "      <td>none</td>\n",
       "      <td>https://www.foxnews.com/politics/trump-coronav...</td>\n",
       "      <td>none</td>\n",
       "      <td>0</td>\n",
       "      <td>0</td>\n",
       "      <td>1</td>\n",
       "      <td>none</td>\n",
       "      <td>https://twitter.com/SanJacintoClan/status/1241...</td>\n",
       "      <td>False</td>\n",
       "      <td>none</td>\n",
       "      <td>0</td>\n",
       "      <td>4128946034</td>\n",
       "      <td>SanJacintoClan</td>\n",
       "      <td>trump white house briefing outlines broad meas...</td>\n",
       "    </tr>\n",
       "    <tr>\n",
       "      <th>2020-03-23 06:59:59+00:00</th>\n",
       "      <td>1241877315648401408</td>\n",
       "      <td>1241877315648401408</td>\n",
       "      <td>858501829</td>\n",
       "      <td>harrietnix</td>\n",
       "      <td>Harriet Nix, The Egyptian Queen</td>\n",
       "      <td>BREAKING: Rand Paul Has Tested Positive For Th...</td>\n",
       "      <td>none</td>\n",
       "      <td>https://trendingpolitics.com/breaking-rand-pau...</td>\n",
       "      <td>none</td>\n",
       "      <td>0</td>\n",
       "      <td>1</td>\n",
       "      <td>1</td>\n",
       "      <td>none</td>\n",
       "      <td>https://twitter.com/HarrietNix/status/12418773...</td>\n",
       "      <td>False</td>\n",
       "      <td>none</td>\n",
       "      <td>0</td>\n",
       "      <td>858501829</td>\n",
       "      <td>HarrietNix</td>\n",
       "      <td>breaking rand paul tested positive chinese cor...</td>\n",
       "    </tr>\n",
       "    <tr>\n",
       "      <th>2020-03-23 06:59:59+00:00</th>\n",
       "      <td>1241877315623112704</td>\n",
       "      <td>1241877315623112704</td>\n",
       "      <td>614853</td>\n",
       "      <td>vajra</td>\n",
       "      <td>E Brown</td>\n",
       "      <td>Spanish opera singer Placido Domingo tests pos...</td>\n",
       "      <td>none</td>\n",
       "      <td>https://reut.rs/2WwhA3H</td>\n",
       "      <td>none</td>\n",
       "      <td>0</td>\n",
       "      <td>0</td>\n",
       "      <td>0</td>\n",
       "      <td>none</td>\n",
       "      <td>https://twitter.com/vajra/status/1241877315623...</td>\n",
       "      <td>False</td>\n",
       "      <td>none</td>\n",
       "      <td>0</td>\n",
       "      <td>614853</td>\n",
       "      <td>vajra</td>\n",
       "      <td>spanish opera singer placido domingo tests pos...</td>\n",
       "    </tr>\n",
       "  </tbody>\n",
       "</table>\n",
       "</div>"
      ],
      "text/plain": [
       "                                            id      conversation_id  \\\n",
       "created_at                                                            \n",
       "2020-03-23 06:59:59+00:00  1241877316734717953  1241877316734717952   \n",
       "2020-03-23 06:59:59+00:00  1241877315648401408  1241877315648401408   \n",
       "2020-03-23 06:59:59+00:00  1241877315623112704  1241877315623112704   \n",
       "\n",
       "                              user_id        username  \\\n",
       "created_at                                              \n",
       "2020-03-23 06:59:59+00:00  4128946034  sanjacintoclan   \n",
       "2020-03-23 06:59:59+00:00   858501829      harrietnix   \n",
       "2020-03-23 06:59:59+00:00      614853           vajra   \n",
       "\n",
       "                                                      name  \\\n",
       "created_at                                                   \n",
       "2020-03-23 06:59:59+00:00                   SanJacintoClan   \n",
       "2020-03-23 06:59:59+00:00  Harriet Nix, The Egyptian Queen   \n",
       "2020-03-23 06:59:59+00:00                          E Brown   \n",
       "\n",
       "                                                                       tweet  \\\n",
       "created_at                                                                     \n",
       "2020-03-23 06:59:59+00:00  Trump, at White House briefing, outlines broad...   \n",
       "2020-03-23 06:59:59+00:00  BREAKING: Rand Paul Has Tested Positive For Th...   \n",
       "2020-03-23 06:59:59+00:00  Spanish opera singer Placido Domingo tests pos...   \n",
       "\n",
       "                          mentions  \\\n",
       "created_at                           \n",
       "2020-03-23 06:59:59+00:00     none   \n",
       "2020-03-23 06:59:59+00:00     none   \n",
       "2020-03-23 06:59:59+00:00     none   \n",
       "\n",
       "                                                                        urls  \\\n",
       "created_at                                                                     \n",
       "2020-03-23 06:59:59+00:00  https://www.foxnews.com/politics/trump-coronav...   \n",
       "2020-03-23 06:59:59+00:00  https://trendingpolitics.com/breaking-rand-pau...   \n",
       "2020-03-23 06:59:59+00:00                            https://reut.rs/2WwhA3H   \n",
       "\n",
       "                          photos  replies_count  retweets_count  likes_count  \\\n",
       "created_at                                                                     \n",
       "2020-03-23 06:59:59+00:00   none              0               0            1   \n",
       "2020-03-23 06:59:59+00:00   none              0               1            1   \n",
       "2020-03-23 06:59:59+00:00   none              0               0            0   \n",
       "\n",
       "                          hashtags  \\\n",
       "created_at                           \n",
       "2020-03-23 06:59:59+00:00     none   \n",
       "2020-03-23 06:59:59+00:00     none   \n",
       "2020-03-23 06:59:59+00:00     none   \n",
       "\n",
       "                                                                        link  \\\n",
       "created_at                                                                     \n",
       "2020-03-23 06:59:59+00:00  https://twitter.com/SanJacintoClan/status/1241...   \n",
       "2020-03-23 06:59:59+00:00  https://twitter.com/HarrietNix/status/12418773...   \n",
       "2020-03-23 06:59:59+00:00  https://twitter.com/vajra/status/1241877315623...   \n",
       "\n",
       "                           retweet quote_url  video reply_to_userids  \\\n",
       "created_at                                                             \n",
       "2020-03-23 06:59:59+00:00    False      none      0       4128946034   \n",
       "2020-03-23 06:59:59+00:00    False      none      0        858501829   \n",
       "2020-03-23 06:59:59+00:00    False      none      0           614853   \n",
       "\n",
       "                          reply_to_usernames  \\\n",
       "created_at                                     \n",
       "2020-03-23 06:59:59+00:00     SanJacintoClan   \n",
       "2020-03-23 06:59:59+00:00         HarrietNix   \n",
       "2020-03-23 06:59:59+00:00              vajra   \n",
       "\n",
       "                                                                 clean_tweet  \n",
       "created_at                                                                    \n",
       "2020-03-23 06:59:59+00:00  trump white house briefing outlines broad meas...  \n",
       "2020-03-23 06:59:59+00:00  breaking rand paul tested positive chinese cor...  \n",
       "2020-03-23 06:59:59+00:00  spanish opera singer placido domingo tests pos...  "
      ]
     },
     "execution_count": 60,
     "metadata": {},
     "output_type": "execute_result"
    }
   ],
   "source": [
    "df_cleantext[:3]"
   ]
  },
  {
   "cell_type": "code",
   "execution_count": 57,
   "metadata": {},
   "outputs": [],
   "source": [
    "#!pip install vaderSentiment"
   ]
  },
  {
   "cell_type": "markdown",
   "metadata": {},
   "source": [
    "## _VADER Sentiment_"
   ]
  },
  {
   "cell_type": "code",
   "execution_count": 58,
   "metadata": {},
   "outputs": [],
   "source": [
    "from vaderSentiment.vaderSentiment import SentimentIntensityAnalyzer\n",
    "\n",
    "analyzer = SentimentIntensityAnalyzer()"
   ]
  },
  {
   "cell_type": "code",
   "execution_count": 59,
   "metadata": {},
   "outputs": [],
   "source": [
    "def vader_score(text):\n",
    "    \"\"\"\n",
    "    Given text, returns compound VADER score.\n",
    "    \"\"\"\n",
    "    return analyzer.polarity_scores(text)[\"compound\"]"
   ]
  },
  {
   "cell_type": "code",
   "execution_count": 63,
   "metadata": {},
   "outputs": [
    {
     "data": {
      "application/vnd.jupyter.widget-view+json": {
       "model_id": "3cb5ac4b6efb45a1a49b812f1a8e12d0",
       "version_major": 2,
       "version_minor": 0
      },
      "text/plain": [
       "HBox(children=(FloatProgress(value=0.0, max=300011.0), HTML(value='')))"
      ]
     },
     "metadata": {},
     "output_type": "display_data"
    },
    {
     "name": "stdout",
     "output_type": "stream",
     "text": [
      "\n"
     ]
    }
   ],
   "source": [
    "df_cleantext[\"vader_comp\"] = df_cleantext[\"tweet\"].progress_apply(vader_score)"
   ]
  },
  {
   "cell_type": "code",
   "execution_count": 64,
   "metadata": {},
   "outputs": [
    {
     "name": "stdout",
     "output_type": "stream",
     "text": [
      "<class 'pandas.core.frame.DataFrame'>\n",
      "DatetimeIndex: 300011 entries, 2020-03-23 06:59:59+00:00 to 2020-03-22 23:57:53+00:00\n",
      "Data columns (total 21 columns):\n",
      " #   Column              Non-Null Count   Dtype  \n",
      "---  ------              --------------   -----  \n",
      " 0   id                  300011 non-null  int64  \n",
      " 1   conversation_id     300011 non-null  int64  \n",
      " 2   user_id             300011 non-null  int64  \n",
      " 3   username            300011 non-null  object \n",
      " 4   name                300011 non-null  object \n",
      " 5   tweet               300011 non-null  object \n",
      " 6   mentions            300011 non-null  object \n",
      " 7   urls                300011 non-null  object \n",
      " 8   photos              300011 non-null  object \n",
      " 9   replies_count       300011 non-null  int64  \n",
      " 10  retweets_count      300011 non-null  int64  \n",
      " 11  likes_count         300011 non-null  int64  \n",
      " 12  hashtags            300011 non-null  object \n",
      " 13  link                300011 non-null  object \n",
      " 14  retweet             300011 non-null  bool   \n",
      " 15  quote_url           300011 non-null  object \n",
      " 16  video               300011 non-null  int64  \n",
      " 17  reply_to_userids    300011 non-null  object \n",
      " 18  reply_to_usernames  300011 non-null  object \n",
      " 19  clean_tweet         300011 non-null  object \n",
      " 20  vader_comp          300011 non-null  float64\n",
      "dtypes: bool(1), float64(1), int64(7), object(12)\n",
      "memory usage: 48.4+ MB\n"
     ]
    }
   ],
   "source": [
    "df_cleantext.info()"
   ]
  },
  {
   "cell_type": "code",
   "execution_count": 13,
   "metadata": {},
   "outputs": [
    {
     "data": {
      "text/plain": [
       "none                              200171\n",
       "youtube                             3856\n",
       "realdonaldtrump                     2878\n",
       "randpaul                            1852\n",
       "gatewaypundit                        973\n",
       "ukchange                             756\n",
       "mailonline                           615\n",
       "borisjohnson                         601\n",
       "nbcnews                              548\n",
       "googlenews                           504\n",
       "yahoo                                400\n",
       "jeffreestar,pulte                    383\n",
       "nypost                               350\n",
       "abc                                  346\n",
       "elijahdaniel                         341\n",
       "narendramodi                         319\n",
       "newyorker                            312\n",
       "usatoday                             296\n",
       "rollingstone                         284\n",
       "realdonaldtrump,jbpritzker,cnn       266\n",
       "Name: mentions, dtype: int64"
      ]
     },
     "execution_count": 13,
     "metadata": {},
     "output_type": "execute_result"
    }
   ],
   "source": [
    "# what are the most mentioned users?\n",
    "df[\"mentions\"].value_counts()[:20]"
   ]
  },
  {
   "cell_type": "code",
   "execution_count": 14,
   "metadata": {},
   "outputs": [
    {
     "data": {
      "text/plain": [
       "none                               188465\n",
       "#coronavirus                        23232\n",
       "#coronavirus,#covid19                2048\n",
       "#covid19,#coronavirus                1656\n",
       "#covidー19,#coronavirus               1063\n",
       "#foxnews                             1048\n",
       "#covid19                              910\n",
       "#coronavirus,#covidー19                899\n",
       "#smartnews                            849\n",
       "#covidー19                             589\n",
       "#covidactnow                          571\n",
       "#topbuzz                              429\n",
       "#cultforgood                          341\n",
       "#santrampalji_canendcorona            269\n",
       "#breaking                             226\n",
       "#peopleoverprofits,#coronavirus       183\n",
       "#coronavirus,#stayathome              175\n",
       "#randpaul,#coronavirus                169\n",
       "#coronavirus,#socialdistancing        154\n",
       "#trump,#coronavirus                   149\n",
       "Name: hashtags, dtype: int64"
      ]
     },
     "execution_count": 14,
     "metadata": {},
     "output_type": "execute_result"
    }
   ],
   "source": [
    "# what are the most common hashtags? \n",
    "df[\"hashtags\"].value_counts()[:20]"
   ]
  },
  {
   "cell_type": "code",
   "execution_count": 18,
   "metadata": {},
   "outputs": [
    {
     "data": {
      "text/plain": [
       "none                                                                                                                  141952\n",
       "https://twitter.com/i/events/1239712380373708800                                                                         871\n",
       "https://twitter.com/i/events/1219057585707315201                                                                         735\n",
       "https://twitter.com/i/events/1241837095108272134                                                                         521\n",
       "https://www.cnn.com/2020/03/22/politics/rand-paul-coronavirus/index.html                                                 484\n",
       "https://twitter.com/RandPaul/status/1241780756617273345                                                                  396\n",
       "https://www.nbcnews.com/politics/congress/rand-paul-becomes-first-known-senator-test-positive-coronavirus-n1166111       360\n",
       "https://www.washingtonpost.com/world/2020/03/22/coronavirus-latest-news/                                                 349\n",
       "http://www.CULTforGOOD.com                                                                                               339\n",
       "https://www.axios.com/rand-paul-coronavirus-847b3df1-92bc-4ee6-833b-952d16f3ee3f.html                                    338\n",
       "Name: urls, dtype: int64"
      ]
     },
     "execution_count": 18,
     "metadata": {},
     "output_type": "execute_result"
    }
   ],
   "source": [
    "# what are the most common urls?\n",
    "df[\"urls\"].value_counts()[:10]"
   ]
  },
  {
   "cell_type": "code",
   "execution_count": 66,
   "metadata": {},
   "outputs": [],
   "source": [
    "from datetime import datetime\n",
    "origpath = \"/notebooks/CovidDisinfo-Detect/experiments\"\n",
    "datapath = \"/notebooks/CovidDisinfo-Detect/data/interim\""
   ]
  },
  {
   "cell_type": "code",
   "execution_count": 68,
   "metadata": {},
   "outputs": [],
   "source": [
    "def save_dataframe(df, origpath, datapath):\n",
    "    \"\"\"\n",
    "    Given a dataframe, saves it as a pickle file and stores in correct data folder.\n",
    "    \"\"\"\n",
    "    # change directory to where data is located\n",
    "    os.chdir(datapath)\n",
    "    # get current date from filename\n",
    "    date = datetime.now().strftime(\"%Y%m%d\")\n",
    "    # load in data with given filename\n",
    "    df.to_pickle(f\"coronavirus_{date}.pkl\")\n",
    "    print(f\"Pickle file saved at {os.getcwd()}\")\n",
    "    # change directory back to original\n",
    "    os.chdir(origpath)"
   ]
  },
  {
   "cell_type": "code",
   "execution_count": 69,
   "metadata": {},
   "outputs": [
    {
     "name": "stdout",
     "output_type": "stream",
     "text": [
      "Pickle file saved at /notebooks/CovidDisinfo-Detect/data/interim\n"
     ]
    }
   ],
   "source": [
    "save_dataframe(df_cleantext, origpath, datapath)"
   ]
  }
 ],
 "metadata": {
  "kernelspec": {
   "display_name": "Python 3",
   "language": "python",
   "name": "python3"
  },
  "language_info": {
   "codemirror_mode": {
    "name": "ipython",
    "version": 3
   },
   "file_extension": ".py",
   "mimetype": "text/x-python",
   "name": "python",
   "nbconvert_exporter": "python",
   "pygments_lexer": "ipython3",
   "version": "3.7.6"
  }
 },
 "nbformat": 4,
 "nbformat_minor": 4
}
