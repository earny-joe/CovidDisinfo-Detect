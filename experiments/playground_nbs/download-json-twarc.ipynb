{
 "cells": [
  {
   "cell_type": "markdown",
   "metadata": {},
   "source": [
    "# _Downloading Data with `twarc`_"
   ]
  },
  {
   "cell_type": "code",
   "execution_count": 11,
   "metadata": {},
   "outputs": [],
   "source": [
    "import git\n",
    "from pathlib import Path\n",
    "import pandas as pd\n",
    "import time\n",
    "import subprocess\n",
    "%reload_ext autoreload\n",
    "%autoreload 2\n",
    "%matplotlib inline"
   ]
  },
  {
   "cell_type": "code",
   "execution_count": 3,
   "metadata": {},
   "outputs": [],
   "source": [
    "def setpath():\n",
    "    return Path.cwd()"
   ]
  },
  {
   "cell_type": "code",
   "execution_count": 49,
   "metadata": {},
   "outputs": [
    {
     "name": "stdout",
     "output_type": "stream",
     "text": [
      "/home/jupyter\n"
     ]
    }
   ],
   "source": [
    "print(setpath())"
   ]
  },
  {
   "cell_type": "code",
   "execution_count": 9,
   "metadata": {},
   "outputs": [],
   "source": [
    "path = setpath()\n",
    "covidrawpath = path / 'covid_disinfo_detect' / 'data' / 'raw_dailies'\n",
    "\n",
    "daily_list = [x.name for x in sorted((covidrawpath).iterdir())\\\n",
    "                  if x.name != 'README.md']"
   ]
  },
  {
   "cell_type": "code",
   "execution_count": 10,
   "metadata": {},
   "outputs": [
    {
     "data": {
      "text/plain": [
       "['2020-03-22',\n",
       " '2020-03-23',\n",
       " '2020-03-24',\n",
       " '2020-03-25',\n",
       " '2020-03-26',\n",
       " '2020-03-27',\n",
       " '2020-03-28',\n",
       " '2020-03-29',\n",
       " '2020-03-30',\n",
       " '2020-03-31',\n",
       " '2020-04-01',\n",
       " '2020-04-02',\n",
       " '2020-04-03',\n",
       " '2020-04-04',\n",
       " '2020-04-05',\n",
       " '2020-04-06',\n",
       " '2020-04-07',\n",
       " '2020-04-08',\n",
       " '2020-04-09',\n",
       " '2020-04-10',\n",
       " '2020-04-11',\n",
       " '2020-04-12',\n",
       " '2020-04-13',\n",
       " '2020-04-14',\n",
       " '2020-04-15',\n",
       " '2020-04-16',\n",
       " '2020-04-17',\n",
       " '2020-04-18',\n",
       " '2020-04-19',\n",
       " '2020-04-20',\n",
       " '2020-04-21',\n",
       " '2020-04-22',\n",
       " '2020-04-23',\n",
       " '2020-04-24',\n",
       " '2020-04-25',\n",
       " '2020-04-26',\n",
       " '2020-04-27']"
      ]
     },
     "execution_count": 10,
     "metadata": {},
     "output_type": "execute_result"
    }
   ],
   "source": [
    "daily_list"
   ]
  },
  {
   "cell_type": "code",
   "execution_count": 29,
   "metadata": {},
   "outputs": [],
   "source": [
    "def json_check(path, daily_list):\n",
    "    nojsondates = []\n",
    "    for day in daily_list:\n",
    "        daypath = path / day\n",
    "        files = [x.name for x in daypath.iterdir()]\n",
    "        if f'{day}_clean-dataset.json' in files:\n",
    "            pass\n",
    "        else:\n",
    "            nojsondates.append(day)\n",
    "    return nojsondates"
   ]
  },
  {
   "cell_type": "code",
   "execution_count": 57,
   "metadata": {},
   "outputs": [],
   "source": [
    "def twarc_gather(path, daily_list):\n",
    "    for day in daily_list:\n",
    "        daypath = path / day\n",
    "        twarc_command = f'twarc hydrate {daypath}/{day}_clean-dataset.txt > {daypath}/{day}_clean-dataset.json'\n",
    "        print(f'Hydrating tweets for {day}...')\n",
    "        try:\n",
    "            subprocess.call(twarc_command, shell=True)\n",
    "            print('Done!')\n",
    "        except Exception as e:\n",
    "            print(e)"
   ]
  },
  {
   "cell_type": "code",
   "execution_count": 58,
   "metadata": {},
   "outputs": [],
   "source": [
    "def main_gather():\n",
    "    path = setpath()\n",
    "    covidrawpath = path / 'covid_disinfo_detect' / 'data' / 'raw_dailies'\n",
    "    daily_list = [x.name for x in sorted((covidrawpath).iterdir())\\\n",
    "                  if x.name != 'README.md']\n",
    "    nojsondates = json_check(covidrawpath, daily_list)\n",
    "    print(f'Total of {len(nojsondates)} folders do not contain a JSON file:\\n{nojsondates}')\n",
    "    totalgather = int(input('How many days would you like to gather?\\n'))\n",
    "    twarc_gather(covidrawpath, nojsondates[-totalgather:])"
   ]
  },
  {
   "cell_type": "code",
   "execution_count": null,
   "metadata": {},
   "outputs": [
    {
     "name": "stdout",
     "output_type": "stream",
     "text": [
      "Total of 37 folders do not contain a JSON file:\n",
      "['.ipynb_checkpoints', '2020-03-22', '2020-03-23', '2020-03-24', '2020-03-25', '2020-03-26', '2020-03-27', '2020-03-28', '2020-03-29', '2020-03-30', '2020-03-31', '2020-04-01', '2020-04-02', '2020-04-03', '2020-04-04', '2020-04-05', '2020-04-06', '2020-04-07', '2020-04-08', '2020-04-09', '2020-04-10', '2020-04-11', '2020-04-12', '2020-04-13', '2020-04-14', '2020-04-15', '2020-04-16', '2020-04-17', '2020-04-18', '2020-04-19', '2020-04-20', '2020-04-21', '2020-04-22', '2020-04-23', '2020-04-24', '2020-04-25', '2020-04-26']\n"
     ]
    },
    {
     "name": "stdin",
     "output_type": "stream",
     "text": [
      "How many days would you like to gather?\n",
      " 2\n"
     ]
    },
    {
     "name": "stdout",
     "output_type": "stream",
     "text": [
      "Hydrating tweets for 2020-04-25...\n"
     ]
    }
   ],
   "source": [
    "main_gather()"
   ]
  },
  {
   "cell_type": "code",
   "execution_count": null,
   "metadata": {},
   "outputs": [],
   "source": []
  }
 ],
 "metadata": {
  "kernelspec": {
   "display_name": "Python 3",
   "language": "python",
   "name": "python3"
  },
  "language_info": {
   "codemirror_mode": {
    "name": "ipython",
    "version": 3
   },
   "file_extension": ".py",
   "mimetype": "text/x-python",
   "name": "python",
   "nbconvert_exporter": "python",
   "pygments_lexer": "ipython3",
   "version": "3.7.6"
  }
 },
 "nbformat": 4,
 "nbformat_minor": 4
}
