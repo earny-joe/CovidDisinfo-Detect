{
 "cells": [
  {
   "cell_type": "code",
   "execution_count": 1,
   "metadata": {},
   "outputs": [],
   "source": [
    "import pandas as pd\n",
    "from pathlib import Path\n",
    "import subprocess\n",
    "%reload_ext autoreload\n",
    "%autoreload 2\n",
    "%matplotlib inline"
   ]
  },
  {
   "cell_type": "code",
   "execution_count": 8,
   "metadata": {},
   "outputs": [],
   "source": [
    "path = Path.cwd()"
   ]
  },
  {
   "cell_type": "code",
   "execution_count": 4,
   "metadata": {},
   "outputs": [],
   "source": [
    "day = '2020-04-25'"
   ]
  },
  {
   "cell_type": "code",
   "execution_count": 12,
   "metadata": {},
   "outputs": [
    {
     "name": "stdout",
     "output_type": "stream",
     "text": [
      "twarc hydrate 2020-04-27_clean-dataset.txt > 2020-04-27_clean-dataset.json\n"
     ]
    }
   ],
   "source": [
    "twarc_command = f'twarc hydrate {day}_clean-dataset.txt > {day}_clean-dataset.json'\n",
    "print(twarc_command)"
   ]
  },
  {
   "cell_type": "code",
   "execution_count": 14,
   "metadata": {},
   "outputs": [
    {
     "data": {
      "text/plain": [
       "0"
      ]
     },
     "execution_count": 14,
     "metadata": {},
     "output_type": "execute_result"
    }
   ],
   "source": [
    "subprocess.call(twarc_command, shell=True)"
   ]
  },
  {
   "cell_type": "code",
   "execution_count": 15,
   "metadata": {},
   "outputs": [],
   "source": [
    "def load_data(filename, chunksize=10000):\n",
    "    good_columns = [\n",
    "        'created_at',\n",
    "        'entities',\n",
    "        'favorite_count',\n",
    "        'full_text',\n",
    "        'id_str',\n",
    "        'in_reply_to_screen_name',\n",
    "        'in_reply_to_status_id_str',\n",
    "        'is_quote_status',\n",
    "        'lang',\n",
    "        'retweet_count',\n",
    "        'source',\n",
    "        'user',\n",
    "        'quoted_status_id_str',\n",
    "        'quoted_status_permalink'\n",
    "    ]\n",
    "    chunks = pd.read_json(\n",
    "        filename, lines=True, chunksize=chunksize,\n",
    "        dtype={'id_str': str, 'in_reply_to_status_id_str': str, 'quoted_status_id_str': str}\n",
    "    )\n",
    "    df = pd.concat(chunk for chunk in chunks)[good_columns]\n",
    "    return df"
   ]
  },
  {
   "cell_type": "code",
   "execution_count": 16,
   "metadata": {},
   "outputs": [
    {
     "name": "stdout",
     "output_type": "stream",
     "text": [
      "CPU times: user 2min 53s, sys: 25.4 s, total: 3min 18s\n",
      "Wall time: 3min 18s\n"
     ]
    }
   ],
   "source": [
    "%%time\n",
    "df = load_data('2020-04-27_clean-dataset.json')"
   ]
  },
  {
   "cell_type": "code",
   "execution_count": 17,
   "metadata": {},
   "outputs": [
    {
     "name": "stdout",
     "output_type": "stream",
     "text": [
      "<class 'pandas.core.frame.DataFrame'>\n",
      "RangeIndex: 1015348 entries, 0 to 1015347\n",
      "Data columns (total 14 columns):\n",
      " #   Column                     Non-Null Count    Dtype              \n",
      "---  ------                     --------------    -----              \n",
      " 0   created_at                 1015348 non-null  datetime64[ns, UTC]\n",
      " 1   entities                   1015348 non-null  object             \n",
      " 2   favorite_count             1015348 non-null  int64              \n",
      " 3   full_text                  1015348 non-null  object             \n",
      " 4   id_str                     1015348 non-null  object             \n",
      " 5   in_reply_to_screen_name    177092 non-null   object             \n",
      " 6   in_reply_to_status_id_str  1015348 non-null  object             \n",
      " 7   is_quote_status            1015348 non-null  bool               \n",
      " 8   lang                       1015348 non-null  object             \n",
      " 9   retweet_count              1015348 non-null  int64              \n",
      " 10  source                     1015348 non-null  object             \n",
      " 11  user                       1015348 non-null  object             \n",
      " 12  quoted_status_id_str       1015348 non-null  object             \n",
      " 13  quoted_status_permalink    306812 non-null   object             \n",
      "dtypes: bool(1), datetime64[ns, UTC](1), int64(2), object(10)\n",
      "memory usage: 101.7+ MB\n"
     ]
    }
   ],
   "source": [
    "df.info()"
   ]
  },
  {
   "cell_type": "code",
   "execution_count": null,
   "metadata": {},
   "outputs": [],
   "source": []
  }
 ],
 "metadata": {
  "kernelspec": {
   "display_name": "Python 3",
   "language": "python",
   "name": "python3"
  },
  "language_info": {
   "codemirror_mode": {
    "name": "ipython",
    "version": 3
   },
   "file_extension": ".py",
   "mimetype": "text/x-python",
   "name": "python",
   "nbconvert_exporter": "python",
   "pygments_lexer": "ipython3",
   "version": "3.7.6"
  }
 },
 "nbformat": 4,
 "nbformat_minor": 4
}
