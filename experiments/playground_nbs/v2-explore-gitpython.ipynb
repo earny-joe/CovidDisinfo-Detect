{
 "cells": [
  {
   "cell_type": "markdown",
   "metadata": {},
   "source": [
    "# _Follow-up: `GitPython`_"
   ]
  },
  {
   "cell_type": "code",
   "execution_count": 1,
   "metadata": {},
   "outputs": [],
   "source": [
    "import git\n",
    "from pathlib import Path\n",
    "import pandas as pd\n",
    "import time"
   ]
  },
  {
   "cell_type": "code",
   "execution_count": 2,
   "metadata": {},
   "outputs": [
    {
     "data": {
      "text/plain": [
       "PosixPath('/home/jupyter')"
      ]
     },
     "execution_count": 2,
     "metadata": {},
     "output_type": "execute_result"
    }
   ],
   "source": [
    "Path.cwd()"
   ]
  },
  {
   "cell_type": "code",
   "execution_count": 15,
   "metadata": {},
   "outputs": [],
   "source": [
    "def setpath():\n",
    "    return Path.cwd()"
   ]
  },
  {
   "cell_type": "code",
   "execution_count": 4,
   "metadata": {},
   "outputs": [],
   "source": [
    "#test123 = setpath()"
   ]
  },
  {
   "cell_type": "code",
   "execution_count": 5,
   "metadata": {},
   "outputs": [],
   "source": [
    "#[x.name for x in test123.iterdir()]"
   ]
  },
  {
   "cell_type": "code",
   "execution_count": 16,
   "metadata": {},
   "outputs": [],
   "source": [
    "def clone_panacea_repo(path):\n",
    "    try:\n",
    "        print('Cloning repository...')\n",
    "        gitrepo = 'https://github.com/thepanacealab/covid19_twitter.git'\n",
    "        git.Repo.clone_from(gitrepo, path / 'thepanacealab_covid19')\n",
    "        print('Repo cloned.')\n",
    "    except Exception as e:\n",
    "        print(e)"
   ]
  },
  {
   "cell_type": "code",
   "execution_count": 5,
   "metadata": {},
   "outputs": [],
   "source": [
    "# pull panacea repo data"
   ]
  },
  {
   "cell_type": "code",
   "execution_count": 6,
   "metadata": {},
   "outputs": [],
   "source": [
    "#repo = git.Repo('thepanacealab_covid19')\n",
    "#assert not repo.bare"
   ]
  },
  {
   "cell_type": "code",
   "execution_count": 7,
   "metadata": {},
   "outputs": [],
   "source": [
    "#repo.create_remote('origin', repo.remotes.origin.url)"
   ]
  },
  {
   "cell_type": "code",
   "execution_count": 8,
   "metadata": {},
   "outputs": [],
   "source": [
    "#g = git.cmd.Git('thepanacealab_covid19')"
   ]
  },
  {
   "cell_type": "code",
   "execution_count": 9,
   "metadata": {},
   "outputs": [],
   "source": [
    "#g.pull()"
   ]
  },
  {
   "cell_type": "code",
   "execution_count": 17,
   "metadata": {},
   "outputs": [],
   "source": [
    "def panacea_pull():\n",
    "    g = git.cmd.Git('thepanacealab_covid19')\n",
    "    result = g.pull()\n",
    "    return result"
   ]
  },
  {
   "cell_type": "code",
   "execution_count": 11,
   "metadata": {},
   "outputs": [],
   "source": [
    "test123 = panacea_pull()"
   ]
  },
  {
   "cell_type": "code",
   "execution_count": 12,
   "metadata": {},
   "outputs": [
    {
     "data": {
      "text/plain": [
       "str"
      ]
     },
     "execution_count": 12,
     "metadata": {},
     "output_type": "execute_result"
    }
   ],
   "source": [
    "type(test123)"
   ]
  },
  {
   "cell_type": "code",
   "execution_count": 18,
   "metadata": {},
   "outputs": [],
   "source": [
    "def make_folders(path, daily_list):\n",
    "    # for day in list of daily folders from Panacea Labs GitHub repo\n",
    "    for day in daily_list:\n",
    "        if (path / 'covid_disinfo_detect' / 'data' / 'raw_dailies' / day).exists():\n",
    "            pass\n",
    "        else:\n",
    "            newpath = path / 'covid_disinfo_detect' / 'data' / 'raw_dailies' / day\n",
    "            newpath.mkdir()"
   ]
  },
  {
   "cell_type": "code",
   "execution_count": 19,
   "metadata": {},
   "outputs": [],
   "source": [
    "def get_txt_data(path, repopath, daily_list):\n",
    "    # for day in list of daily folders from Panacea Labs GitHub Repo\n",
    "    for day in daily_list:\n",
    "        # create path variables to access data in Panacea repo, and path to local storage folder\n",
    "        storagepath = path / 'covid_disinfo_detect' / 'data' / 'raw_dailies' / day\n",
    "        datapath = repopath / 'dailies' / day\n",
    "        # get list of contents within local daily storage folder \n",
    "        files = [x.name for x in storagepath.iterdir()]\n",
    "        # if txt file with that date is in daily storage folder, print confirmation\n",
    "        if f'{day}_clean-dataset.txt' in files:\n",
    "            print(f'Txt detected in {storagepath}')\n",
    "        # else read in compressed tsv file with Tweet IDs from Panacea repo & store txt file\n",
    "        # with Tweet IDs in local daily storage folder\n",
    "        else:\n",
    "            df = pd.read_csv(f'{datapath}/{day}_clean-dataset.tsv.gz',\n",
    "                             sep='\\t', usecols=['tweet_id'], compression='gzip')\n",
    "            df.to_csv(f'{storagepath}/{day}_clean-dataset.txt', header=None, index=None)"
   ]
  },
  {
   "cell_type": "code",
   "execution_count": 20,
   "metadata": {},
   "outputs": [
    {
     "data": {
      "text/plain": [
       "['processed_dailies', 'raw_dailies', '.ipynb_checkpoints']"
      ]
     },
     "execution_count": 20,
     "metadata": {},
     "output_type": "execute_result"
    }
   ],
   "source": [
    "covidpath = setpath() / 'covid_disinfo_detect'\n",
    "list(x.name for x in (covidpath / 'data' ).iterdir())"
   ]
  },
  {
   "cell_type": "code",
   "execution_count": 21,
   "metadata": {},
   "outputs": [],
   "source": [
    "def main_setup():\n",
    "    # set up path to current working directory & path to directory containing Panacea data\n",
    "    path = setpath()\n",
    "    covidpath = path / 'covid_disinfo_detect'\n",
    "    repopath = path / 'thepanacealab_covid19'\n",
    "    \n",
    "    # if Panacea lab folder in working directory, print confirmation, else clone the repo\n",
    "    if path / 'thepanacealab_covid19' in path.iterdir():\n",
    "        print('Panacea Labs COVID-19 GitHub has already been cloned...')\n",
    "    else:\n",
    "        clone_panacea_repo(path)\n",
    "    # pull any recent updates from Panacea Lab repo\n",
    "    pull_result = panacea_pull()\n",
    "    print(pull_result)\n",
    "    # create list of daily folders located in Panacea repo (which contains data we need to access)\n",
    "    daily_list = [x.name for x in sorted((repopath / 'dailies').iterdir())\\\n",
    "                  if x.name != 'README.md']\n",
    "    \n",
    "    if 'raw_dailies' in list(x.name for x in (covidpath / 'data').iterdir()):\n",
    "        make_folders(path, daily_list)\n",
    "        get_txt_data(path, repopath, daily_list)\n",
    "    else:\n",
    "        dailypath = path / 'covid_disinfo_detect' / 'data' / 'raw_dailies'\n",
    "        dailypath.mkdir()\n",
    "        make_folders(path, daily_list)\n",
    "        get_txt_data(path, repopath, daily_list)"
   ]
  },
  {
   "cell_type": "code",
   "execution_count": 22,
   "metadata": {},
   "outputs": [
    {
     "name": "stdout",
     "output_type": "stream",
     "text": [
      "Panacea Labs COVID-19 GitHub has already been cloned...\n",
      "Already up-to-date.\n",
      "Txt detected in /home/jupyter/covid_disinfo_detect/data/raw_dailies/2020-03-22\n",
      "Txt detected in /home/jupyter/covid_disinfo_detect/data/raw_dailies/2020-03-23\n",
      "Txt detected in /home/jupyter/covid_disinfo_detect/data/raw_dailies/2020-03-24\n",
      "Txt detected in /home/jupyter/covid_disinfo_detect/data/raw_dailies/2020-03-25\n",
      "Txt detected in /home/jupyter/covid_disinfo_detect/data/raw_dailies/2020-03-26\n",
      "Txt detected in /home/jupyter/covid_disinfo_detect/data/raw_dailies/2020-03-27\n",
      "Txt detected in /home/jupyter/covid_disinfo_detect/data/raw_dailies/2020-03-28\n",
      "Txt detected in /home/jupyter/covid_disinfo_detect/data/raw_dailies/2020-03-29\n",
      "Txt detected in /home/jupyter/covid_disinfo_detect/data/raw_dailies/2020-03-30\n",
      "Txt detected in /home/jupyter/covid_disinfo_detect/data/raw_dailies/2020-03-31\n",
      "Txt detected in /home/jupyter/covid_disinfo_detect/data/raw_dailies/2020-04-01\n",
      "Txt detected in /home/jupyter/covid_disinfo_detect/data/raw_dailies/2020-04-02\n",
      "Txt detected in /home/jupyter/covid_disinfo_detect/data/raw_dailies/2020-04-03\n",
      "Txt detected in /home/jupyter/covid_disinfo_detect/data/raw_dailies/2020-04-04\n",
      "Txt detected in /home/jupyter/covid_disinfo_detect/data/raw_dailies/2020-04-05\n",
      "Txt detected in /home/jupyter/covid_disinfo_detect/data/raw_dailies/2020-04-06\n",
      "Txt detected in /home/jupyter/covid_disinfo_detect/data/raw_dailies/2020-04-07\n",
      "Txt detected in /home/jupyter/covid_disinfo_detect/data/raw_dailies/2020-04-08\n",
      "Txt detected in /home/jupyter/covid_disinfo_detect/data/raw_dailies/2020-04-09\n",
      "Txt detected in /home/jupyter/covid_disinfo_detect/data/raw_dailies/2020-04-10\n",
      "Txt detected in /home/jupyter/covid_disinfo_detect/data/raw_dailies/2020-04-11\n",
      "Txt detected in /home/jupyter/covid_disinfo_detect/data/raw_dailies/2020-04-12\n",
      "Txt detected in /home/jupyter/covid_disinfo_detect/data/raw_dailies/2020-04-13\n",
      "Txt detected in /home/jupyter/covid_disinfo_detect/data/raw_dailies/2020-04-14\n",
      "Txt detected in /home/jupyter/covid_disinfo_detect/data/raw_dailies/2020-04-15\n",
      "Txt detected in /home/jupyter/covid_disinfo_detect/data/raw_dailies/2020-04-16\n",
      "Txt detected in /home/jupyter/covid_disinfo_detect/data/raw_dailies/2020-04-17\n",
      "Txt detected in /home/jupyter/covid_disinfo_detect/data/raw_dailies/2020-04-18\n",
      "Txt detected in /home/jupyter/covid_disinfo_detect/data/raw_dailies/2020-04-19\n",
      "Txt detected in /home/jupyter/covid_disinfo_detect/data/raw_dailies/2020-04-20\n",
      "Txt detected in /home/jupyter/covid_disinfo_detect/data/raw_dailies/2020-04-21\n",
      "Txt detected in /home/jupyter/covid_disinfo_detect/data/raw_dailies/2020-04-22\n",
      "Txt detected in /home/jupyter/covid_disinfo_detect/data/raw_dailies/2020-04-23\n",
      "Txt detected in /home/jupyter/covid_disinfo_detect/data/raw_dailies/2020-04-24\n",
      "Txt detected in /home/jupyter/covid_disinfo_detect/data/raw_dailies/2020-04-25\n",
      "Txt detected in /home/jupyter/covid_disinfo_detect/data/raw_dailies/2020-04-26\n",
      "Txt detected in /home/jupyter/covid_disinfo_detect/data/raw_dailies/2020-04-27\n"
     ]
    }
   ],
   "source": [
    "main_setup()"
   ]
  },
  {
   "cell_type": "code",
   "execution_count": null,
   "metadata": {},
   "outputs": [],
   "source": []
  },
  {
   "cell_type": "code",
   "execution_count": null,
   "metadata": {},
   "outputs": [],
   "source": []
  }
 ],
 "metadata": {
  "kernelspec": {
   "display_name": "Python 3",
   "language": "python",
   "name": "python3"
  },
  "language_info": {
   "codemirror_mode": {
    "name": "ipython",
    "version": 3
   },
   "file_extension": ".py",
   "mimetype": "text/x-python",
   "name": "python",
   "nbconvert_exporter": "python",
   "pygments_lexer": "ipython3",
   "version": "3.7.6"
  }
 },
 "nbformat": 4,
 "nbformat_minor": 4
}
