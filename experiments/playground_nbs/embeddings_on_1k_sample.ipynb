{
 "cells": [
  {
   "cell_type": "markdown",
   "metadata": {},
   "source": [
    "# _Generate `distilbert` Embeddings for Sample_"
   ]
  },
  {
   "cell_type": "code",
   "execution_count": 4,
   "metadata": {},
   "outputs": [],
   "source": [
    "from pathlib import Path\n",
    "import pandas as pd"
   ]
  },
  {
   "cell_type": "code",
   "execution_count": 22,
   "metadata": {},
   "outputs": [],
   "source": [
    "#!pip install -U sentence-transformers\n",
    "#!pip install emoji"
   ]
  },
  {
   "cell_type": "code",
   "execution_count": 23,
   "metadata": {},
   "outputs": [],
   "source": [
    "def experiments_path():\n",
    "    return Path.cwd().parent"
   ]
  },
  {
   "cell_type": "markdown",
   "metadata": {},
   "source": [
    "## _Load in Data_"
   ]
  },
  {
   "cell_type": "code",
   "execution_count": 24,
   "metadata": {},
   "outputs": [],
   "source": [
    "path = experiments_path()"
   ]
  },
  {
   "cell_type": "code",
   "execution_count": 25,
   "metadata": {},
   "outputs": [],
   "source": [
    "df = pd.read_json(\n",
    "    f'{path}/playground_data/sample_data_2020_05_27.json',\n",
    "    orient='columns',\n",
    "    dtype={\n",
    "        'id_str': str,\n",
    "        'user_id_str': str\n",
    "    }\n",
    ")"
   ]
  },
  {
   "cell_type": "code",
   "execution_count": 26,
   "metadata": {},
   "outputs": [
    {
     "name": "stdout",
     "output_type": "stream",
     "text": [
      "<class 'pandas.core.frame.DataFrame'>\n",
      "Int64Index: 1000 entries, 0 to 999\n",
      "Data columns (total 5 columns):\n",
      " #   Column       Non-Null Count  Dtype         \n",
      "---  ------       --------------  -----         \n",
      " 0   created_at   1000 non-null   datetime64[ns]\n",
      " 1   id_str       1000 non-null   object        \n",
      " 2   user_id_str  1000 non-null   object        \n",
      " 3   lang         1000 non-null   object        \n",
      " 4   full_text    1000 non-null   object        \n",
      "dtypes: datetime64[ns](1), object(4)\n",
      "memory usage: 46.9+ KB\n"
     ]
    }
   ],
   "source": [
    "df.info()"
   ]
  },
  {
   "cell_type": "markdown",
   "metadata": {},
   "source": [
    "## _Apply Text Normalization_"
   ]
  },
  {
   "cell_type": "code",
   "execution_count": 27,
   "metadata": {},
   "outputs": [],
   "source": [
    "from sentence_transformers import SentenceTransformer\n",
    "from nltk.tokenize import TweetTokenizer\n",
    "from emoji import demojize\n",
    "import re\n",
    "import numpy as np\n",
    "import scipy\n",
    "import pytest\n",
    "\n",
    "\n",
    "tokenizer = TweetTokenizer()\n",
    "\n",
    "\n",
    "def normalizeToken(token):\n",
    "    lwrcase_tok = token.lower()\n",
    "    if token.startswith(\"@\"):\n",
    "        return \"@USER\"\n",
    "    elif lwrcase_tok.startswith(\"http\") or lwrcase_tok.startswith(\"www\"):\n",
    "        return \"HTTPURL\"\n",
    "    elif len(token) == 1:\n",
    "        return demojize(token)\n",
    "    else:\n",
    "        if token == \"’\":\n",
    "            return \"'\"\n",
    "        elif token == \"…\":\n",
    "            return \"...\"\n",
    "        else:\n",
    "            return token\n",
    "\n",
    "\n",
    "def normalizeTweet(tweet):\n",
    "    tokens = tokenizer.tokenize(tweet.replace(\"’\", \"'\").replace(\"…\", \"...\"))\n",
    "    normTweet = \" \".join([normalizeToken(token) for token in tokens])\n",
    "\n",
    "    normTweet = (\n",
    "        normTweet.replace(\"cannot \", \"can not \")\n",
    "        .replace(\"n't \", \" n't \")\n",
    "        .replace(\"n 't \", \" n't \")\n",
    "        .replace(\"ca n't\", \"can't\")\n",
    "        .replace(\"ai n't\", \"ain't\")\n",
    "    )\n",
    "    normTweet = (\n",
    "        normTweet.replace(\"'m \", \" 'm \")\n",
    "        .replace(\"'re \", \" 're \")\n",
    "        .replace(\"'s \", \" 's \")\n",
    "        .replace(\"'ll \", \" 'll \")\n",
    "        .replace(\"'d \", \" 'd \")\n",
    "        .replace(\"'ve \", \" 've \")\n",
    "    )\n",
    "    normTweet = (\n",
    "        normTweet.replace(\" p . m .\", \"  p.m.\")\n",
    "        .replace(\" p . m \", \" p.m \")\n",
    "        .replace(\" a . m .\", \" a.m.\")\n",
    "        .replace(\" a . m \", \" a.m \")\n",
    "    )\n",
    "\n",
    "    normTweet = re.sub(\n",
    "        r\",([0-9]{2,4}) , ([0-9]{2,4})\", r\",\\1,\\2\", normTweet\n",
    "    )\n",
    "    normTweet = re.sub(\n",
    "        r\"([0-9]{1,3}) / ([0-9]{2,4})\", r\"\\1/\\2\", normTweet\n",
    "    )\n",
    "    normTweet = re.sub(\n",
    "        r\"([0-9]{1,3})- ([0-9]{2,4})\", r\"\\1-\\2\", normTweet\n",
    "    )\n",
    "\n",
    "    return \" \".join(normTweet.split())"
   ]
  },
  {
   "cell_type": "code",
   "execution_count": 28,
   "metadata": {},
   "outputs": [],
   "source": [
    "# apply text normalization\n",
    "df['bert_tweet'] = df['full_text'].apply(\n",
    "    lambda tweet: normalizeTweet(tweet)\n",
    ").str.lower()"
   ]
  },
  {
   "cell_type": "markdown",
   "metadata": {},
   "source": [
    "## _Embeddings_"
   ]
  },
  {
   "cell_type": "code",
   "execution_count": 30,
   "metadata": {},
   "outputs": [],
   "source": [
    "def create_embedding_model(model_name):\n",
    "    '''\n",
    "    Given string of pretrain embedding available in sentence-transformers\n",
    "    library, create a SentenceTransformer object to encode embeddings with\n",
    "    '''\n",
    "    model = SentenceTransformer(model_name)\n",
    "    return model\n",
    "\n",
    "\n",
    "def generate_embeddings(model, df, column_name='bert_tweet'):\n",
    "    '''\n",
    "    Given a SentenceTransformer model, a pandas DataFrame, and a column name\n",
    "    (whose default value will take 'bert_tweet'), we'll encode a set of\n",
    "    (unnormalized) embeddings on tweet text within the dataframe and\n",
    "    return this dataframe\n",
    "    '''\n",
    "    tweets = df[column_name]\n",
    "    # generate embeddings with model\n",
    "    tweet_embeddings = model.encode(tweets)\n",
    "    return tweet_embeddings"
   ]
  },
  {
   "cell_type": "code",
   "execution_count": 32,
   "metadata": {},
   "outputs": [],
   "source": [
    "distilbert = create_embedding_model('distilbert-base-nli-stsb-mean-tokens')"
   ]
  },
  {
   "cell_type": "code",
   "execution_count": 33,
   "metadata": {},
   "outputs": [],
   "source": [
    "tweet_embeddings = generate_embeddings(\n",
    "    distilbert,\n",
    "    df\n",
    ")"
   ]
  },
  {
   "cell_type": "code",
   "execution_count": 35,
   "metadata": {},
   "outputs": [
    {
     "data": {
      "text/plain": [
       "1000"
      ]
     },
     "execution_count": 35,
     "metadata": {},
     "output_type": "execute_result"
    }
   ],
   "source": [
    "len(tweet_embeddings)"
   ]
  },
  {
   "cell_type": "code",
   "execution_count": null,
   "metadata": {},
   "outputs": [],
   "source": []
  }
 ],
 "metadata": {
  "kernelspec": {
   "display_name": "Python 3",
   "language": "python",
   "name": "python3"
  },
  "language_info": {
   "codemirror_mode": {
    "name": "ipython",
    "version": 3
   },
   "file_extension": ".py",
   "mimetype": "text/x-python",
   "name": "python",
   "nbconvert_exporter": "python",
   "pygments_lexer": "ipython3",
   "version": "3.7.6"
  }
 },
 "nbformat": 4,
 "nbformat_minor": 4
}
