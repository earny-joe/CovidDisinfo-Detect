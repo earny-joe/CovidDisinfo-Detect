{
 "cells": [
  {
   "cell_type": "markdown",
   "metadata": {},
   "source": [
    "# _Experimentation: TBD_\n",
    "\n",
    "**TL:DR** --> This notebook will be repurposed for creating v1 of the training pipeline. For the purposes of experimentation we'll be using data comprised of tweets from 03/20/2020 through 03/24/2020. "
   ]
  },
  {
   "cell_type": "code",
   "execution_count": 3,
   "metadata": {},
   "outputs": [
    {
     "name": "stderr",
     "output_type": "stream",
     "text": [
      "/opt/conda/envs/fastai/lib/python3.7/site-packages/tqdm/std.py:658: FutureWarning: The Panel class is removed from pandas. Accessing it from the top-level namespace will also be removed in the next version\n",
      "  from pandas import Panel\n"
     ]
    }
   ],
   "source": [
    "%reload_ext autoreload\n",
    "%autoreload 2\n",
    "%matplotlib inline\n",
    "%config InlineBackend.figure_format = 'retina'\n",
    "\n",
    "# import libraries\n",
    "import fundamentals\n",
    "import pandas as pd\n",
    "pd.options.display.max_columns = None\n",
    "import numpy as np\n",
    "import random\n",
    "import string\n",
    "import os\n",
    "import re\n",
    "from tqdm.autonotebook import tqdm\n",
    "tqdm.pandas()"
   ]
  },
  {
   "cell_type": "markdown",
   "metadata": {},
   "source": [
    "## _Load Data_"
   ]
  },
  {
   "cell_type": "code",
   "execution_count": 4,
   "metadata": {},
   "outputs": [
    {
     "name": "stdout",
     "output_type": "stream",
     "text": [
      "CPU times: user 5.54 s, sys: 2.66 s, total: 8.2 s\n",
      "Wall time: 8.2 s\n"
     ]
    }
   ],
   "source": [
    "%%time\n",
    "# strings of file paths and file name for data\n",
    "origpath = \"/notebooks/CovidDisinfo-Detect/experiments\"\n",
    "datapath = \"/notebooks/CovidDisinfo-Detect/data/interim\"\n",
    "filename1 = \"covid19_0320_0324.pkl\"\n",
    "\n",
    "# load data into pandas dataframe\n",
    "df_0320_0324 = fundamentals.load_data(origpath, datapath, filename1)"
   ]
  },
  {
   "cell_type": "code",
   "execution_count": 5,
   "metadata": {},
   "outputs": [
    {
     "name": "stdout",
     "output_type": "stream",
     "text": [
      "<class 'pandas.core.frame.DataFrame'>\n",
      "DatetimeIndex: 3364618 entries, 2020-03-24 23:59:59 to 2020-03-20 01:37:05\n",
      "Data columns (total 19 columns):\n",
      " #   Column              Dtype \n",
      "---  ------              ----- \n",
      " 0   id                  int64 \n",
      " 1   conversation_id     int64 \n",
      " 2   user_id             int64 \n",
      " 3   username            object\n",
      " 4   name                object\n",
      " 5   tweet               object\n",
      " 6   mentions            object\n",
      " 7   urls                object\n",
      " 8   photos              object\n",
      " 9   replies_count       int64 \n",
      " 10  retweets_count      int64 \n",
      " 11  likes_count         int64 \n",
      " 12  hashtags            object\n",
      " 13  link                object\n",
      " 14  retweet             bool  \n",
      " 15  quote_url           object\n",
      " 16  video               int64 \n",
      " 17  reply_to_userids    object\n",
      " 18  reply_to_usernames  object\n",
      "dtypes: bool(1), int64(7), object(11)\n",
      "memory usage: 490.9+ MB\n"
     ]
    }
   ],
   "source": [
    "df_0320_0324.info()"
   ]
  },
  {
   "cell_type": "markdown",
   "metadata": {},
   "source": [
    "## _Initial Exploration with regex & `re`_"
   ]
  },
  {
   "cell_type": "code",
   "execution_count": 13,
   "metadata": {},
   "outputs": [],
   "source": [
    "# search for newline characters\n",
    "def newline_search(text):\n",
    "    \"\"\"\n",
    "    Searches for newline characters in \n",
    "    \"\"\"\n",
    "    regex = re.compile(r\"\\n+\", re.I)\n",
    "    if regex.findall(text) == []:\n",
    "        return False\n",
    "    else:\n",
    "        return True\n",
    "    \n",
    "def newline_sub(text):\n",
    "    \"\"\"\n",
    "    Removes newline characters from text.\n",
    "    \"\"\"\n",
    "    regex = re.compile(r\"\\n+\", re.I)\n",
    "    if regex.findall(text) == []:\n",
    "        return text\n",
    "    else:\n",
    "        return regex.sub(r\" \", text)"
   ]
  },
  {
   "cell_type": "code",
   "execution_count": 14,
   "metadata": {},
   "outputs": [
    {
     "data": {
      "application/vnd.jupyter.widget-view+json": {
       "model_id": "ce3d1a06c73d4686a4dfb1c88e4c7464",
       "version_major": 2,
       "version_minor": 0
      },
      "text/plain": [
       "HBox(children=(FloatProgress(value=0.0, max=2624891.0), HTML(value='')))"
      ]
     },
     "metadata": {},
     "output_type": "display_data"
    },
    {
     "name": "stdout",
     "output_type": "stream",
     "text": [
      "\n"
     ]
    }
   ],
   "source": [
    "# create a new column without the newline characters\n",
    "df[\"clean_tweet\"] = df[\"tweet\"].progress_apply(newline_sub)"
   ]
  },
  {
   "cell_type": "code",
   "execution_count": 15,
   "metadata": {},
   "outputs": [
    {
     "data": {
      "text/plain": [
       "False    2624891\n",
       "Name: clean_tweet, dtype: int64"
      ]
     },
     "execution_count": 15,
     "metadata": {},
     "output_type": "execute_result"
    }
   ],
   "source": [
    "# check to make sure our cleaning worked\n",
    "df[\"clean_tweet\"].apply(newline_search).value_counts(dropna=False)"
   ]
  },
  {
   "cell_type": "markdown",
   "metadata": {},
   "source": [
    "## `5G_search`"
   ]
  },
  {
   "cell_type": "code",
   "execution_count": 55,
   "metadata": {},
   "outputs": [],
   "source": [
    "text = \"\"\"\n",
    "Did you know that 5G 5g 5 g & telephone network phone signals signal and its radiation caused covid19? it hasn't been debunked yet!\n",
    "\"\"\""
   ]
  },
  {
   "cell_type": "code",
   "execution_count": 56,
   "metadata": {},
   "outputs": [],
   "source": [
    "# ((not)?[\\s]?debunked) --> searches for not debunked, with not as optional subgroup\n",
    "\n",
    "def fiveg_search(text):\n",
    "    \"\"\"\n",
    "    Searches for 5G-related conspiracy theory terms in a given text.\n",
    "    \"\"\"\n",
    "    regex = re.compile(r\"(5[\\s]?G)+|(network)+|((tele)?phone)+|(signal(s)?)+|(radiation)+\", re.I)\n",
    "    return \",\".join([x.group() for x in regex.finditer(text)])"
   ]
  },
  {
   "cell_type": "code",
   "execution_count": 59,
   "metadata": {},
   "outputs": [
    {
     "name": "stdout",
     "output_type": "stream",
     "text": [
      "27.4 µs ± 604 ns per loop (mean ± std. dev. of 7 runs, 10000 loops each)\n"
     ]
    }
   ],
   "source": [
    "%%timeit\n",
    "fiveg_search(text)"
   ]
  },
  {
   "cell_type": "code",
   "execution_count": 58,
   "metadata": {},
   "outputs": [
    {
     "data": {
      "application/vnd.jupyter.widget-view+json": {
       "model_id": "dd697977b67549b3bf0142044fc2752e",
       "version_major": 2,
       "version_minor": 0
      },
      "text/plain": [
       "HBox(children=(FloatProgress(value=0.0, max=2624891.0), HTML(value='')))"
      ]
     },
     "metadata": {},
     "output_type": "display_data"
    },
    {
     "name": "stdout",
     "output_type": "stream",
     "text": [
      "\n"
     ]
    }
   ],
   "source": [
    "# create a column so we can examine what the regex search turns up\n",
    "df[\"fiveg_search\"] = df[\"clean_tweet\"].progress_apply(fiveg_search)"
   ]
  },
  {
   "cell_type": "code",
   "execution_count": 61,
   "metadata": {},
   "outputs": [
    {
     "data": {
      "text/plain": [
       "                     2590158\n",
       "phone                  10649\n",
       "network                 8670\n",
       "5G                      2875\n",
       "5g                      2701\n",
       "Network                 2012\n",
       "Phone                   1039\n",
       "telephone                974\n",
       "phone,phone              932\n",
       "signal                   828\n",
       "network,network          400\n",
       "Network,network          311\n",
       "signals                  298\n",
       "5 G                      294\n",
       "Signal                   226\n",
       "Phone,phone              202\n",
       "5 g                      202\n",
       "radiation                179\n",
       "PHONE                    150\n",
       "Telephone                149\n",
       "5G,5G                    132\n",
       "phone,phone,phone         82\n",
       "5G,5g                     74\n",
       "NETWORK                   72\n",
       "Network,Network           62\n",
       "network,Network           56\n",
       "Name: fiveg_search, dtype: int64"
      ]
     },
     "execution_count": 61,
     "metadata": {},
     "output_type": "execute_result"
    }
   ],
   "source": [
    "# what do the results look like? \n",
    "df[\"fiveg_search\"].value_counts()[:26]"
   ]
  },
  {
   "cell_type": "code",
   "execution_count": 92,
   "metadata": {},
   "outputs": [],
   "source": [
    "# create subset dataframe containing 5g instances\n",
    "df_fiveg = df[df[\"fiveg_search\"].str.contains(r\"(5[\\s]?G)+\")]"
   ]
  },
  {
   "cell_type": "code",
   "execution_count": 97,
   "metadata": {},
   "outputs": [
    {
     "data": {
      "text/plain": [
       "<matplotlib.axes._subplots.AxesSubplot at 0x7f45a3ef0710>"
      ]
     },
     "execution_count": 97,
     "metadata": {},
     "output_type": "execute_result"
    },
    {
     "data": {
      "image/png": "[encoded data removed]",
      "text/plain": [
       "<Figure size 432x288 with 1 Axes>"
      ]
     },
     "metadata": {
      "image/png": {
       "height": 318,
       "width": 411
      }
     },
     "output_type": "display_data"
    }
   ],
   "source": [
    "df_fiveg.resample(\"30min\")[\"id\"].count().plot()"
   ]
  },
  {
   "cell_type": "code",
   "execution_count": 105,
   "metadata": {},
   "outputs": [
    {
     "name": "stdout",
     "output_type": "stream",
     "text": [
      "Hospital Administrators: US Physicians/Healthcare Workers For Personal Protective Equipment in COVID-19 Pandemic ( DO NOT DONATE!) - Sign the Petition!  http://chng.it/HZ5Gn9g2  via @Change\n",
      "\n",
      "The reaction to the figure of 59k  was the same as mine. The graphics provided by Reuters relating to Patient 31 in South Korea (along with the rising daily death toll in Italy) was what led me to change my thinking about just how virulent Covid-19 is:  https://graphics.reuters.com/CHINA-HEALTH-SOUTHKOREA-CLUSTERS/0100B5G33SB/index.html …\n",
      "\n",
      "COVID-19  pic.twitter.com/fDdj8WM5G4\n",
      "\n",
      "Listen to GIE Senior Associate Editor, Dr. Douglas Adler, talk with Dr. Alessandro Repici about his experience with the COVID-19 outbreak in Milan, Italy.  http://ow.ly/mtBj50yRxw6  pic.twitter.com/p5Gx56xv6N\n",
      "\n",
      "COVID-19: Gani Adams postpones Oke’badan, Eledumare festivals indefinitely  https://newsverge.com/2020/03/22/covid-19-gani-adams-postpones-okebadan-eledumare-festivals-indefinitely/ … pic.twitter.com/5GDelRD4FX\n",
      "\n",
      "Find out how powerful 5G MICROWAVES ARE MUTATING Corona viruses. Just put regular corona cold viruses in petrie dishes and hit them with 5G. For starters.    There’s Intel chatter about 5G and COVID19.  Hello ?  Are you there ??\n",
      "\n",
      "***** TOP 5 ***** 1. China 🇨🇳 - 80967 cases - 3248 deaths 2. Italy 🇮🇹 - 41035 cases - 3405 deaths 3. Spain 🇪🇸 - 19980 cases - 1002 deaths 4. Iran 🇮🇷 - 19644 cases - 1433 deaths 5. Germany 🇩🇪 - 16666 cases - 44 deaths Last updated: March 20, 2020, 13:15 GMT #Covid_19 #DataScience pic.twitter.com/WXXw7qJ75e\n",
      "\n",
      "5G is not causing COVID-19. Please stop\n",
      "\n",
      "Our CORONA response team in Lady Reading Hospital, Peshawar. \"The soldiers at the frontline\" . Together we will beat COVID-19. #CoronaFreePakistan #CoronavirusPandemic #Social_Distancing pic.twitter.com/5G1LMhWk3w\n",
      "\n",
      "Thank you @VodafoneAU for the free extra 5GB addition to my monthly data plan and other waivers:  https://www.vodafone.com.au/about/company/covid-19?cbu:post:all:ultdcalls5gb:sms:ser:covid19:cvm … Glad to see your response to #Covid19\n",
      "\n",
      "#COVID19 #QurantineLife  when you are on ur period and desperate for something sweet but only have leftover cake icing and slice bread pic.twitter.com/5Gdj1j4gxK\n",
      "\n",
      "@JazzDotCo Offers Free Hiring Software to Essential Care Providers During COVID-19 Pandemic  http://ow.ly/S2Yf30qs5G2  #covid19 #coronavirus #TecHR #HR #HRTech #HRTechnology #humanresources\n",
      "\n",
      "Today, @JustinTrudeau announced that the Canadian Govt will spend $192M on developing COVID-19 vaccine & treatments. @AbCelleraBio is deeply honored to receive this support for our efforts in discovering & developing an antibody treatment for COVID-19.   https://youtu.be/Xz5GUbGL69k \n",
      "\n",
      "HamcoIndiana: RT StateHealthIN: For centuries, INGuardsman have been answering the call to protect our state and nation.   Thank you for supporting Indiana’s efforts to reduce the spread of #COVID19.   We can beat this. #IndianaGuardsman | GovHolcomb pic.twitter.com/k5cXGyi5Gm\n",
      "\n",
      "#COVID19 is not #ChineseVirus. This #coronavirus is more likely to be another #AmericanFlu! #TrumpVirus pic.twitter.com/F86j2xoM5G\n",
      "\n",
      "5G Doesn’t Cause Coronavirus, but Coronavirus Might Cause 5G  https://www.extremetech.com/extreme/307939-5g-doesnt-cause-coronavirus-but-coronavirus-might-cause-5g … #5G #coronavirus #LTE #ATT #Covid_19 #TMobile #3G #4G #radiation #SPECTRUM pic.twitter.com/HhNJeFe5Xh\n",
      "\n",
      "The mayor is letting people out of jail due to #covid_19 pay attention and stay home.  https://www.instagram.com/p/B9-Ai_Gl62v0dAv8wV5GDVuS1Bh2vwz-LTE3Tw0/?igshid=tlf30ozffcum …\n",
      "\n",
      "iHuntTalents👇🏼👆🏼 #StayAtHomeChallenge #EvdeKal #COVID19 #CoronaVirus pic.twitter.com/TtwU5G0tsV\n",
      "\n",
      "Eye-opening data visualization from @elecurator that illustrates how issues of health and COVID-19 have been increasingly dominating political conversations on Twitter over recent weeks.  pic.twitter.com/l5lVp95G4I\n",
      "\n",
      "When you look at maps of 5G in the UK, US, Italy and China and then look at the areas most effected by Covid-19 and they match up perfectly...\n",
      "\n"
     ]
    }
   ],
   "source": [
    "for n in range(20):\n",
    "    print(df_fiveg[\"clean_tweet\"].sample(n=1, random_state=n).iloc[0] + \"\\n\")"
   ]
  },
  {
   "cell_type": "code",
   "execution_count": null,
   "metadata": {},
   "outputs": [],
   "source": []
  },
  {
   "cell_type": "code",
   "execution_count": 85,
   "metadata": {},
   "outputs": [],
   "source": [
    "def test_5g(text):\n",
    "    regex = re.compile(r\"(5[\\s]?G)+|(cause[s]?)+\", re.I)\n",
    "    return \",\".join([x.group() for x in regex.finditer(text)])"
   ]
  },
  {
   "cell_type": "code",
   "execution_count": 86,
   "metadata": {},
   "outputs": [],
   "source": [
    "text = \"What if 5G 5gcauses covid19 covid-19 covid 19?\""
   ]
  },
  {
   "cell_type": "code",
   "execution_count": 87,
   "metadata": {},
   "outputs": [
    {
     "data": {
      "text/plain": [
       "'5G,5g,causes'"
      ]
     },
     "execution_count": 87,
     "metadata": {},
     "output_type": "execute_result"
    }
   ],
   "source": [
    "test_5g(text)"
   ]
  },
  {
   "cell_type": "code",
   "execution_count": 88,
   "metadata": {},
   "outputs": [
    {
     "data": {
      "application/vnd.jupyter.widget-view+json": {
       "model_id": "e2bca652795e4751b59bb50b703eb64a",
       "version_major": 2,
       "version_minor": 0
      },
      "text/plain": [
       "HBox(children=(FloatProgress(value=0.0, max=2624891.0), HTML(value='')))"
      ]
     },
     "metadata": {},
     "output_type": "display_data"
    },
    {
     "name": "stdout",
     "output_type": "stream",
     "text": [
      "\n"
     ]
    },
    {
     "data": {
      "text/plain": [
       "                           2516604\n",
       "cause                        88869\n",
       "cause,cause                   5734\n",
       "causes                        3644\n",
       "5G                            2865\n",
       "5g                            2664\n",
       "Cause                         1174\n",
       "CAUSE                          803\n",
       "cause,cause,cause              295\n",
       "5 G                            287\n",
       "cause,causes                   245\n",
       "5 g                            184\n",
       "causes,causes                  180\n",
       "causes,cause                   155\n",
       "Cause,cause                    135\n",
       "5G,5G                          131\n",
       "Causes                          93\n",
       "cause,5G                        71\n",
       "5G,5g                           65\n",
       "cause,5g                        56\n",
       "5G,cause                        54\n",
       "Causes,causes                   33\n",
       "cause,cause,cause,cause         29\n",
       "cause,CAUSE                     29\n",
       "cause,Cause                     29\n",
       "Name: clean_tweet, dtype: int64"
      ]
     },
     "execution_count": 88,
     "metadata": {},
     "output_type": "execute_result"
    }
   ],
   "source": [
    "df[\"clean_tweet\"].progress_apply(test_5g).value_counts()[:25]"
   ]
  },
  {
   "cell_type": "code",
   "execution_count": null,
   "metadata": {},
   "outputs": [],
   "source": []
  }
 ],
 "metadata": {
  "kernelspec": {
   "display_name": "Python 3",
   "language": "python",
   "name": "python3"
  },
  "language_info": {
   "codemirror_mode": {
    "name": "ipython",
    "version": 3
   },
   "file_extension": ".py",
   "mimetype": "text/x-python",
   "name": "python",
   "nbconvert_exporter": "python",
   "pygments_lexer": "ipython3",
   "version": "3.7.6"
  }
 },
 "nbformat": 4,
 "nbformat_minor": 4
}
